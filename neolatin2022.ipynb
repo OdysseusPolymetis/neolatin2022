{
  "nbformat": 4,
  "nbformat_minor": 0,
  "metadata": {
    "colab": {
      "name": "neolatin2022.ipynb",
      "provenance": [],
      "collapsed_sections": [],
      "authorship_tag": "ABX9TyOGwFpvlEuQonyW9U6w5nQd",
      "include_colab_link": true
    },
    "kernelspec": {
      "name": "python3",
      "display_name": "Python 3"
    },
    "language_info": {
      "name": "python"
    },
    "widgets": {
      "application/vnd.jupyter.widget-state+json": {
        "ebc29c8ef1c848c5afd738bb27d3c3ee": {
          "model_module": "@jupyter-widgets/controls",
          "model_name": "HBoxModel",
          "model_module_version": "1.5.0",
          "state": {
            "_dom_classes": [],
            "_model_module": "@jupyter-widgets/controls",
            "_model_module_version": "1.5.0",
            "_model_name": "HBoxModel",
            "_view_count": null,
            "_view_module": "@jupyter-widgets/controls",
            "_view_module_version": "1.5.0",
            "_view_name": "HBoxView",
            "box_style": "",
            "children": [
              "IPY_MODEL_7d96e9a2e6634a7ab2c785e9cb4ebb55",
              "IPY_MODEL_91df9b187d9e48e49bd46ff13098dc95",
              "IPY_MODEL_f0fea651cc2845fc80f533cd74b7d5c6"
            ],
            "layout": "IPY_MODEL_ef6b412ac38b4cb794996a09587217b2"
          }
        },
        "7d96e9a2e6634a7ab2c785e9cb4ebb55": {
          "model_module": "@jupyter-widgets/controls",
          "model_name": "HTMLModel",
          "model_module_version": "1.5.0",
          "state": {
            "_dom_classes": [],
            "_model_module": "@jupyter-widgets/controls",
            "_model_module_version": "1.5.0",
            "_model_name": "HTMLModel",
            "_view_count": null,
            "_view_module": "@jupyter-widgets/controls",
            "_view_module_version": "1.5.0",
            "_view_name": "HTMLView",
            "description": "",
            "description_tooltip": null,
            "layout": "IPY_MODEL_24d1ba30fc604b68a6b3c2531d7d5157",
            "placeholder": "​",
            "style": "IPY_MODEL_18d140cb03fc4b90b285cde3ae3c37f9",
            "value": "Downloading https://raw.githubusercontent.com/stanfordnlp/stanza-resources/main/resources_1.4.0.json: "
          }
        },
        "91df9b187d9e48e49bd46ff13098dc95": {
          "model_module": "@jupyter-widgets/controls",
          "model_name": "FloatProgressModel",
          "model_module_version": "1.5.0",
          "state": {
            "_dom_classes": [],
            "_model_module": "@jupyter-widgets/controls",
            "_model_module_version": "1.5.0",
            "_model_name": "FloatProgressModel",
            "_view_count": null,
            "_view_module": "@jupyter-widgets/controls",
            "_view_module_version": "1.5.0",
            "_view_name": "ProgressView",
            "bar_style": "success",
            "description": "",
            "description_tooltip": null,
            "layout": "IPY_MODEL_d7942853c9514ea2b3e852824f943334",
            "max": 25998,
            "min": 0,
            "orientation": "horizontal",
            "style": "IPY_MODEL_1290b14c86bc43bd975c4573ebe0f398",
            "value": 25998
          }
        },
        "f0fea651cc2845fc80f533cd74b7d5c6": {
          "model_module": "@jupyter-widgets/controls",
          "model_name": "HTMLModel",
          "model_module_version": "1.5.0",
          "state": {
            "_dom_classes": [],
            "_model_module": "@jupyter-widgets/controls",
            "_model_module_version": "1.5.0",
            "_model_name": "HTMLModel",
            "_view_count": null,
            "_view_module": "@jupyter-widgets/controls",
            "_view_module_version": "1.5.0",
            "_view_name": "HTMLView",
            "description": "",
            "description_tooltip": null,
            "layout": "IPY_MODEL_f5fb1dffaab14a76acf0c98c9aa2b8c3",
            "placeholder": "​",
            "style": "IPY_MODEL_cfd7ea45ed2647829c74622c40ac8d8c",
            "value": " 154k/? [00:00&lt;00:00, 1.40MB/s]"
          }
        },
        "ef6b412ac38b4cb794996a09587217b2": {
          "model_module": "@jupyter-widgets/base",
          "model_name": "LayoutModel",
          "model_module_version": "1.2.0",
          "state": {
            "_model_module": "@jupyter-widgets/base",
            "_model_module_version": "1.2.0",
            "_model_name": "LayoutModel",
            "_view_count": null,
            "_view_module": "@jupyter-widgets/base",
            "_view_module_version": "1.2.0",
            "_view_name": "LayoutView",
            "align_content": null,
            "align_items": null,
            "align_self": null,
            "border": null,
            "bottom": null,
            "display": null,
            "flex": null,
            "flex_flow": null,
            "grid_area": null,
            "grid_auto_columns": null,
            "grid_auto_flow": null,
            "grid_auto_rows": null,
            "grid_column": null,
            "grid_gap": null,
            "grid_row": null,
            "grid_template_areas": null,
            "grid_template_columns": null,
            "grid_template_rows": null,
            "height": null,
            "justify_content": null,
            "justify_items": null,
            "left": null,
            "margin": null,
            "max_height": null,
            "max_width": null,
            "min_height": null,
            "min_width": null,
            "object_fit": null,
            "object_position": null,
            "order": null,
            "overflow": null,
            "overflow_x": null,
            "overflow_y": null,
            "padding": null,
            "right": null,
            "top": null,
            "visibility": null,
            "width": null
          }
        },
        "24d1ba30fc604b68a6b3c2531d7d5157": {
          "model_module": "@jupyter-widgets/base",
          "model_name": "LayoutModel",
          "model_module_version": "1.2.0",
          "state": {
            "_model_module": "@jupyter-widgets/base",
            "_model_module_version": "1.2.0",
            "_model_name": "LayoutModel",
            "_view_count": null,
            "_view_module": "@jupyter-widgets/base",
            "_view_module_version": "1.2.0",
            "_view_name": "LayoutView",
            "align_content": null,
            "align_items": null,
            "align_self": null,
            "border": null,
            "bottom": null,
            "display": null,
            "flex": null,
            "flex_flow": null,
            "grid_area": null,
            "grid_auto_columns": null,
            "grid_auto_flow": null,
            "grid_auto_rows": null,
            "grid_column": null,
            "grid_gap": null,
            "grid_row": null,
            "grid_template_areas": null,
            "grid_template_columns": null,
            "grid_template_rows": null,
            "height": null,
            "justify_content": null,
            "justify_items": null,
            "left": null,
            "margin": null,
            "max_height": null,
            "max_width": null,
            "min_height": null,
            "min_width": null,
            "object_fit": null,
            "object_position": null,
            "order": null,
            "overflow": null,
            "overflow_x": null,
            "overflow_y": null,
            "padding": null,
            "right": null,
            "top": null,
            "visibility": null,
            "width": null
          }
        },
        "18d140cb03fc4b90b285cde3ae3c37f9": {
          "model_module": "@jupyter-widgets/controls",
          "model_name": "DescriptionStyleModel",
          "model_module_version": "1.5.0",
          "state": {
            "_model_module": "@jupyter-widgets/controls",
            "_model_module_version": "1.5.0",
            "_model_name": "DescriptionStyleModel",
            "_view_count": null,
            "_view_module": "@jupyter-widgets/base",
            "_view_module_version": "1.2.0",
            "_view_name": "StyleView",
            "description_width": ""
          }
        },
        "d7942853c9514ea2b3e852824f943334": {
          "model_module": "@jupyter-widgets/base",
          "model_name": "LayoutModel",
          "model_module_version": "1.2.0",
          "state": {
            "_model_module": "@jupyter-widgets/base",
            "_model_module_version": "1.2.0",
            "_model_name": "LayoutModel",
            "_view_count": null,
            "_view_module": "@jupyter-widgets/base",
            "_view_module_version": "1.2.0",
            "_view_name": "LayoutView",
            "align_content": null,
            "align_items": null,
            "align_self": null,
            "border": null,
            "bottom": null,
            "display": null,
            "flex": null,
            "flex_flow": null,
            "grid_area": null,
            "grid_auto_columns": null,
            "grid_auto_flow": null,
            "grid_auto_rows": null,
            "grid_column": null,
            "grid_gap": null,
            "grid_row": null,
            "grid_template_areas": null,
            "grid_template_columns": null,
            "grid_template_rows": null,
            "height": null,
            "justify_content": null,
            "justify_items": null,
            "left": null,
            "margin": null,
            "max_height": null,
            "max_width": null,
            "min_height": null,
            "min_width": null,
            "object_fit": null,
            "object_position": null,
            "order": null,
            "overflow": null,
            "overflow_x": null,
            "overflow_y": null,
            "padding": null,
            "right": null,
            "top": null,
            "visibility": null,
            "width": null
          }
        },
        "1290b14c86bc43bd975c4573ebe0f398": {
          "model_module": "@jupyter-widgets/controls",
          "model_name": "ProgressStyleModel",
          "model_module_version": "1.5.0",
          "state": {
            "_model_module": "@jupyter-widgets/controls",
            "_model_module_version": "1.5.0",
            "_model_name": "ProgressStyleModel",
            "_view_count": null,
            "_view_module": "@jupyter-widgets/base",
            "_view_module_version": "1.2.0",
            "_view_name": "StyleView",
            "bar_color": null,
            "description_width": ""
          }
        },
        "f5fb1dffaab14a76acf0c98c9aa2b8c3": {
          "model_module": "@jupyter-widgets/base",
          "model_name": "LayoutModel",
          "model_module_version": "1.2.0",
          "state": {
            "_model_module": "@jupyter-widgets/base",
            "_model_module_version": "1.2.0",
            "_model_name": "LayoutModel",
            "_view_count": null,
            "_view_module": "@jupyter-widgets/base",
            "_view_module_version": "1.2.0",
            "_view_name": "LayoutView",
            "align_content": null,
            "align_items": null,
            "align_self": null,
            "border": null,
            "bottom": null,
            "display": null,
            "flex": null,
            "flex_flow": null,
            "grid_area": null,
            "grid_auto_columns": null,
            "grid_auto_flow": null,
            "grid_auto_rows": null,
            "grid_column": null,
            "grid_gap": null,
            "grid_row": null,
            "grid_template_areas": null,
            "grid_template_columns": null,
            "grid_template_rows": null,
            "height": null,
            "justify_content": null,
            "justify_items": null,
            "left": null,
            "margin": null,
            "max_height": null,
            "max_width": null,
            "min_height": null,
            "min_width": null,
            "object_fit": null,
            "object_position": null,
            "order": null,
            "overflow": null,
            "overflow_x": null,
            "overflow_y": null,
            "padding": null,
            "right": null,
            "top": null,
            "visibility": null,
            "width": null
          }
        },
        "cfd7ea45ed2647829c74622c40ac8d8c": {
          "model_module": "@jupyter-widgets/controls",
          "model_name": "DescriptionStyleModel",
          "model_module_version": "1.5.0",
          "state": {
            "_model_module": "@jupyter-widgets/controls",
            "_model_module_version": "1.5.0",
            "_model_name": "DescriptionStyleModel",
            "_view_count": null,
            "_view_module": "@jupyter-widgets/base",
            "_view_module_version": "1.2.0",
            "_view_name": "StyleView",
            "description_width": ""
          }
        },
        "fd32e57cd7984d7195aae8f099d2fa0f": {
          "model_module": "@jupyter-widgets/controls",
          "model_name": "HBoxModel",
          "model_module_version": "1.5.0",
          "state": {
            "_dom_classes": [],
            "_model_module": "@jupyter-widgets/controls",
            "_model_module_version": "1.5.0",
            "_model_name": "HBoxModel",
            "_view_count": null,
            "_view_module": "@jupyter-widgets/controls",
            "_view_module_version": "1.5.0",
            "_view_name": "HBoxView",
            "box_style": "",
            "children": [
              "IPY_MODEL_d4370628f1914c2cb035aaf5f6e5e689",
              "IPY_MODEL_8a01d2e7dcc54a07924154b287fd08ee",
              "IPY_MODEL_522986a1a22848608e4732ffe5b8b0d5"
            ],
            "layout": "IPY_MODEL_55582bffb0fe46b2ba054a0928f2cff1"
          }
        },
        "d4370628f1914c2cb035aaf5f6e5e689": {
          "model_module": "@jupyter-widgets/controls",
          "model_name": "HTMLModel",
          "model_module_version": "1.5.0",
          "state": {
            "_dom_classes": [],
            "_model_module": "@jupyter-widgets/controls",
            "_model_module_version": "1.5.0",
            "_model_name": "HTMLModel",
            "_view_count": null,
            "_view_module": "@jupyter-widgets/controls",
            "_view_module_version": "1.5.0",
            "_view_name": "HTMLView",
            "description": "",
            "description_tooltip": null,
            "layout": "IPY_MODEL_ecdf9b87cbb34f0e95b3ddcffa67fcdc",
            "placeholder": "​",
            "style": "IPY_MODEL_4d3b314ce6054408ab2c748a80409a44",
            "value": "Downloading https://huggingface.co/stanfordnlp/stanza-grc/resolve/v1.4.0/models/tokenize/proiel.pt: 100%"
          }
        },
        "8a01d2e7dcc54a07924154b287fd08ee": {
          "model_module": "@jupyter-widgets/controls",
          "model_name": "FloatProgressModel",
          "model_module_version": "1.5.0",
          "state": {
            "_dom_classes": [],
            "_model_module": "@jupyter-widgets/controls",
            "_model_module_version": "1.5.0",
            "_model_name": "FloatProgressModel",
            "_view_count": null,
            "_view_module": "@jupyter-widgets/controls",
            "_view_module_version": "1.5.0",
            "_view_name": "ProgressView",
            "bar_style": "success",
            "description": "",
            "description_tooltip": null,
            "layout": "IPY_MODEL_a9c80452764a4acea77778c60a277bbd",
            "max": 641780,
            "min": 0,
            "orientation": "horizontal",
            "style": "IPY_MODEL_390037951ac246a194367fce63c9dfaa",
            "value": 641780
          }
        },
        "522986a1a22848608e4732ffe5b8b0d5": {
          "model_module": "@jupyter-widgets/controls",
          "model_name": "HTMLModel",
          "model_module_version": "1.5.0",
          "state": {
            "_dom_classes": [],
            "_model_module": "@jupyter-widgets/controls",
            "_model_module_version": "1.5.0",
            "_model_name": "HTMLModel",
            "_view_count": null,
            "_view_module": "@jupyter-widgets/controls",
            "_view_module_version": "1.5.0",
            "_view_name": "HTMLView",
            "description": "",
            "description_tooltip": null,
            "layout": "IPY_MODEL_5110ddf9e71e491ba3f7c9e9e3b99d93",
            "placeholder": "​",
            "style": "IPY_MODEL_810561697a964ff08d36735a6ebe7912",
            "value": " 642k/642k [00:00&lt;00:00, 734kB/s]"
          }
        },
        "55582bffb0fe46b2ba054a0928f2cff1": {
          "model_module": "@jupyter-widgets/base",
          "model_name": "LayoutModel",
          "model_module_version": "1.2.0",
          "state": {
            "_model_module": "@jupyter-widgets/base",
            "_model_module_version": "1.2.0",
            "_model_name": "LayoutModel",
            "_view_count": null,
            "_view_module": "@jupyter-widgets/base",
            "_view_module_version": "1.2.0",
            "_view_name": "LayoutView",
            "align_content": null,
            "align_items": null,
            "align_self": null,
            "border": null,
            "bottom": null,
            "display": null,
            "flex": null,
            "flex_flow": null,
            "grid_area": null,
            "grid_auto_columns": null,
            "grid_auto_flow": null,
            "grid_auto_rows": null,
            "grid_column": null,
            "grid_gap": null,
            "grid_row": null,
            "grid_template_areas": null,
            "grid_template_columns": null,
            "grid_template_rows": null,
            "height": null,
            "justify_content": null,
            "justify_items": null,
            "left": null,
            "margin": null,
            "max_height": null,
            "max_width": null,
            "min_height": null,
            "min_width": null,
            "object_fit": null,
            "object_position": null,
            "order": null,
            "overflow": null,
            "overflow_x": null,
            "overflow_y": null,
            "padding": null,
            "right": null,
            "top": null,
            "visibility": null,
            "width": null
          }
        },
        "ecdf9b87cbb34f0e95b3ddcffa67fcdc": {
          "model_module": "@jupyter-widgets/base",
          "model_name": "LayoutModel",
          "model_module_version": "1.2.0",
          "state": {
            "_model_module": "@jupyter-widgets/base",
            "_model_module_version": "1.2.0",
            "_model_name": "LayoutModel",
            "_view_count": null,
            "_view_module": "@jupyter-widgets/base",
            "_view_module_version": "1.2.0",
            "_view_name": "LayoutView",
            "align_content": null,
            "align_items": null,
            "align_self": null,
            "border": null,
            "bottom": null,
            "display": null,
            "flex": null,
            "flex_flow": null,
            "grid_area": null,
            "grid_auto_columns": null,
            "grid_auto_flow": null,
            "grid_auto_rows": null,
            "grid_column": null,
            "grid_gap": null,
            "grid_row": null,
            "grid_template_areas": null,
            "grid_template_columns": null,
            "grid_template_rows": null,
            "height": null,
            "justify_content": null,
            "justify_items": null,
            "left": null,
            "margin": null,
            "max_height": null,
            "max_width": null,
            "min_height": null,
            "min_width": null,
            "object_fit": null,
            "object_position": null,
            "order": null,
            "overflow": null,
            "overflow_x": null,
            "overflow_y": null,
            "padding": null,
            "right": null,
            "top": null,
            "visibility": null,
            "width": null
          }
        },
        "4d3b314ce6054408ab2c748a80409a44": {
          "model_module": "@jupyter-widgets/controls",
          "model_name": "DescriptionStyleModel",
          "model_module_version": "1.5.0",
          "state": {
            "_model_module": "@jupyter-widgets/controls",
            "_model_module_version": "1.5.0",
            "_model_name": "DescriptionStyleModel",
            "_view_count": null,
            "_view_module": "@jupyter-widgets/base",
            "_view_module_version": "1.2.0",
            "_view_name": "StyleView",
            "description_width": ""
          }
        },
        "a9c80452764a4acea77778c60a277bbd": {
          "model_module": "@jupyter-widgets/base",
          "model_name": "LayoutModel",
          "model_module_version": "1.2.0",
          "state": {
            "_model_module": "@jupyter-widgets/base",
            "_model_module_version": "1.2.0",
            "_model_name": "LayoutModel",
            "_view_count": null,
            "_view_module": "@jupyter-widgets/base",
            "_view_module_version": "1.2.0",
            "_view_name": "LayoutView",
            "align_content": null,
            "align_items": null,
            "align_self": null,
            "border": null,
            "bottom": null,
            "display": null,
            "flex": null,
            "flex_flow": null,
            "grid_area": null,
            "grid_auto_columns": null,
            "grid_auto_flow": null,
            "grid_auto_rows": null,
            "grid_column": null,
            "grid_gap": null,
            "grid_row": null,
            "grid_template_areas": null,
            "grid_template_columns": null,
            "grid_template_rows": null,
            "height": null,
            "justify_content": null,
            "justify_items": null,
            "left": null,
            "margin": null,
            "max_height": null,
            "max_width": null,
            "min_height": null,
            "min_width": null,
            "object_fit": null,
            "object_position": null,
            "order": null,
            "overflow": null,
            "overflow_x": null,
            "overflow_y": null,
            "padding": null,
            "right": null,
            "top": null,
            "visibility": null,
            "width": null
          }
        },
        "390037951ac246a194367fce63c9dfaa": {
          "model_module": "@jupyter-widgets/controls",
          "model_name": "ProgressStyleModel",
          "model_module_version": "1.5.0",
          "state": {
            "_model_module": "@jupyter-widgets/controls",
            "_model_module_version": "1.5.0",
            "_model_name": "ProgressStyleModel",
            "_view_count": null,
            "_view_module": "@jupyter-widgets/base",
            "_view_module_version": "1.2.0",
            "_view_name": "StyleView",
            "bar_color": null,
            "description_width": ""
          }
        },
        "5110ddf9e71e491ba3f7c9e9e3b99d93": {
          "model_module": "@jupyter-widgets/base",
          "model_name": "LayoutModel",
          "model_module_version": "1.2.0",
          "state": {
            "_model_module": "@jupyter-widgets/base",
            "_model_module_version": "1.2.0",
            "_model_name": "LayoutModel",
            "_view_count": null,
            "_view_module": "@jupyter-widgets/base",
            "_view_module_version": "1.2.0",
            "_view_name": "LayoutView",
            "align_content": null,
            "align_items": null,
            "align_self": null,
            "border": null,
            "bottom": null,
            "display": null,
            "flex": null,
            "flex_flow": null,
            "grid_area": null,
            "grid_auto_columns": null,
            "grid_auto_flow": null,
            "grid_auto_rows": null,
            "grid_column": null,
            "grid_gap": null,
            "grid_row": null,
            "grid_template_areas": null,
            "grid_template_columns": null,
            "grid_template_rows": null,
            "height": null,
            "justify_content": null,
            "justify_items": null,
            "left": null,
            "margin": null,
            "max_height": null,
            "max_width": null,
            "min_height": null,
            "min_width": null,
            "object_fit": null,
            "object_position": null,
            "order": null,
            "overflow": null,
            "overflow_x": null,
            "overflow_y": null,
            "padding": null,
            "right": null,
            "top": null,
            "visibility": null,
            "width": null
          }
        },
        "810561697a964ff08d36735a6ebe7912": {
          "model_module": "@jupyter-widgets/controls",
          "model_name": "DescriptionStyleModel",
          "model_module_version": "1.5.0",
          "state": {
            "_model_module": "@jupyter-widgets/controls",
            "_model_module_version": "1.5.0",
            "_model_name": "DescriptionStyleModel",
            "_view_count": null,
            "_view_module": "@jupyter-widgets/base",
            "_view_module_version": "1.2.0",
            "_view_name": "StyleView",
            "description_width": ""
          }
        },
        "3642563ac8324f969aafb73885accb0c": {
          "model_module": "@jupyter-widgets/controls",
          "model_name": "HBoxModel",
          "model_module_version": "1.5.0",
          "state": {
            "_dom_classes": [],
            "_model_module": "@jupyter-widgets/controls",
            "_model_module_version": "1.5.0",
            "_model_name": "HBoxModel",
            "_view_count": null,
            "_view_module": "@jupyter-widgets/controls",
            "_view_module_version": "1.5.0",
            "_view_name": "HBoxView",
            "box_style": "",
            "children": [
              "IPY_MODEL_a3fec9199289495dbee480c20a8bfe2e",
              "IPY_MODEL_ee6e81194c8942a599b394b4ecac7531",
              "IPY_MODEL_39d9b86d11504d48b48ebfabf36d011a"
            ],
            "layout": "IPY_MODEL_678f715509b3458f8bd2a0abb10b2682"
          }
        },
        "a3fec9199289495dbee480c20a8bfe2e": {
          "model_module": "@jupyter-widgets/controls",
          "model_name": "HTMLModel",
          "model_module_version": "1.5.0",
          "state": {
            "_dom_classes": [],
            "_model_module": "@jupyter-widgets/controls",
            "_model_module_version": "1.5.0",
            "_model_name": "HTMLModel",
            "_view_count": null,
            "_view_module": "@jupyter-widgets/controls",
            "_view_module_version": "1.5.0",
            "_view_name": "HTMLView",
            "description": "",
            "description_tooltip": null,
            "layout": "IPY_MODEL_e8537ca334394aaa8ceb1353ba44990f",
            "placeholder": "​",
            "style": "IPY_MODEL_abced62dc1954932a50400579c62fa7a",
            "value": "Downloading https://huggingface.co/stanfordnlp/stanza-grc/resolve/v1.4.0/models/pos/proiel.pt: 100%"
          }
        },
        "ee6e81194c8942a599b394b4ecac7531": {
          "model_module": "@jupyter-widgets/controls",
          "model_name": "FloatProgressModel",
          "model_module_version": "1.5.0",
          "state": {
            "_dom_classes": [],
            "_model_module": "@jupyter-widgets/controls",
            "_model_module_version": "1.5.0",
            "_model_name": "FloatProgressModel",
            "_view_count": null,
            "_view_module": "@jupyter-widgets/controls",
            "_view_module_version": "1.5.0",
            "_view_name": "ProgressView",
            "bar_style": "success",
            "description": "",
            "description_tooltip": null,
            "layout": "IPY_MODEL_54885b5fa7504e3a80520e62c6c72fbf",
            "max": 19885942,
            "min": 0,
            "orientation": "horizontal",
            "style": "IPY_MODEL_54c47e2880474b809a991d1f43380816",
            "value": 19885942
          }
        },
        "39d9b86d11504d48b48ebfabf36d011a": {
          "model_module": "@jupyter-widgets/controls",
          "model_name": "HTMLModel",
          "model_module_version": "1.5.0",
          "state": {
            "_dom_classes": [],
            "_model_module": "@jupyter-widgets/controls",
            "_model_module_version": "1.5.0",
            "_model_name": "HTMLModel",
            "_view_count": null,
            "_view_module": "@jupyter-widgets/controls",
            "_view_module_version": "1.5.0",
            "_view_name": "HTMLView",
            "description": "",
            "description_tooltip": null,
            "layout": "IPY_MODEL_ac25246e0bf4465ebc8b7050ff148474",
            "placeholder": "​",
            "style": "IPY_MODEL_e61a68390aa54101a28e81d2c1a88ba8",
            "value": " 19.9M/19.9M [00:00&lt;00:00, 55.6MB/s]"
          }
        },
        "678f715509b3458f8bd2a0abb10b2682": {
          "model_module": "@jupyter-widgets/base",
          "model_name": "LayoutModel",
          "model_module_version": "1.2.0",
          "state": {
            "_model_module": "@jupyter-widgets/base",
            "_model_module_version": "1.2.0",
            "_model_name": "LayoutModel",
            "_view_count": null,
            "_view_module": "@jupyter-widgets/base",
            "_view_module_version": "1.2.0",
            "_view_name": "LayoutView",
            "align_content": null,
            "align_items": null,
            "align_self": null,
            "border": null,
            "bottom": null,
            "display": null,
            "flex": null,
            "flex_flow": null,
            "grid_area": null,
            "grid_auto_columns": null,
            "grid_auto_flow": null,
            "grid_auto_rows": null,
            "grid_column": null,
            "grid_gap": null,
            "grid_row": null,
            "grid_template_areas": null,
            "grid_template_columns": null,
            "grid_template_rows": null,
            "height": null,
            "justify_content": null,
            "justify_items": null,
            "left": null,
            "margin": null,
            "max_height": null,
            "max_width": null,
            "min_height": null,
            "min_width": null,
            "object_fit": null,
            "object_position": null,
            "order": null,
            "overflow": null,
            "overflow_x": null,
            "overflow_y": null,
            "padding": null,
            "right": null,
            "top": null,
            "visibility": null,
            "width": null
          }
        },
        "e8537ca334394aaa8ceb1353ba44990f": {
          "model_module": "@jupyter-widgets/base",
          "model_name": "LayoutModel",
          "model_module_version": "1.2.0",
          "state": {
            "_model_module": "@jupyter-widgets/base",
            "_model_module_version": "1.2.0",
            "_model_name": "LayoutModel",
            "_view_count": null,
            "_view_module": "@jupyter-widgets/base",
            "_view_module_version": "1.2.0",
            "_view_name": "LayoutView",
            "align_content": null,
            "align_items": null,
            "align_self": null,
            "border": null,
            "bottom": null,
            "display": null,
            "flex": null,
            "flex_flow": null,
            "grid_area": null,
            "grid_auto_columns": null,
            "grid_auto_flow": null,
            "grid_auto_rows": null,
            "grid_column": null,
            "grid_gap": null,
            "grid_row": null,
            "grid_template_areas": null,
            "grid_template_columns": null,
            "grid_template_rows": null,
            "height": null,
            "justify_content": null,
            "justify_items": null,
            "left": null,
            "margin": null,
            "max_height": null,
            "max_width": null,
            "min_height": null,
            "min_width": null,
            "object_fit": null,
            "object_position": null,
            "order": null,
            "overflow": null,
            "overflow_x": null,
            "overflow_y": null,
            "padding": null,
            "right": null,
            "top": null,
            "visibility": null,
            "width": null
          }
        },
        "abced62dc1954932a50400579c62fa7a": {
          "model_module": "@jupyter-widgets/controls",
          "model_name": "DescriptionStyleModel",
          "model_module_version": "1.5.0",
          "state": {
            "_model_module": "@jupyter-widgets/controls",
            "_model_module_version": "1.5.0",
            "_model_name": "DescriptionStyleModel",
            "_view_count": null,
            "_view_module": "@jupyter-widgets/base",
            "_view_module_version": "1.2.0",
            "_view_name": "StyleView",
            "description_width": ""
          }
        },
        "54885b5fa7504e3a80520e62c6c72fbf": {
          "model_module": "@jupyter-widgets/base",
          "model_name": "LayoutModel",
          "model_module_version": "1.2.0",
          "state": {
            "_model_module": "@jupyter-widgets/base",
            "_model_module_version": "1.2.0",
            "_model_name": "LayoutModel",
            "_view_count": null,
            "_view_module": "@jupyter-widgets/base",
            "_view_module_version": "1.2.0",
            "_view_name": "LayoutView",
            "align_content": null,
            "align_items": null,
            "align_self": null,
            "border": null,
            "bottom": null,
            "display": null,
            "flex": null,
            "flex_flow": null,
            "grid_area": null,
            "grid_auto_columns": null,
            "grid_auto_flow": null,
            "grid_auto_rows": null,
            "grid_column": null,
            "grid_gap": null,
            "grid_row": null,
            "grid_template_areas": null,
            "grid_template_columns": null,
            "grid_template_rows": null,
            "height": null,
            "justify_content": null,
            "justify_items": null,
            "left": null,
            "margin": null,
            "max_height": null,
            "max_width": null,
            "min_height": null,
            "min_width": null,
            "object_fit": null,
            "object_position": null,
            "order": null,
            "overflow": null,
            "overflow_x": null,
            "overflow_y": null,
            "padding": null,
            "right": null,
            "top": null,
            "visibility": null,
            "width": null
          }
        },
        "54c47e2880474b809a991d1f43380816": {
          "model_module": "@jupyter-widgets/controls",
          "model_name": "ProgressStyleModel",
          "model_module_version": "1.5.0",
          "state": {
            "_model_module": "@jupyter-widgets/controls",
            "_model_module_version": "1.5.0",
            "_model_name": "ProgressStyleModel",
            "_view_count": null,
            "_view_module": "@jupyter-widgets/base",
            "_view_module_version": "1.2.0",
            "_view_name": "StyleView",
            "bar_color": null,
            "description_width": ""
          }
        },
        "ac25246e0bf4465ebc8b7050ff148474": {
          "model_module": "@jupyter-widgets/base",
          "model_name": "LayoutModel",
          "model_module_version": "1.2.0",
          "state": {
            "_model_module": "@jupyter-widgets/base",
            "_model_module_version": "1.2.0",
            "_model_name": "LayoutModel",
            "_view_count": null,
            "_view_module": "@jupyter-widgets/base",
            "_view_module_version": "1.2.0",
            "_view_name": "LayoutView",
            "align_content": null,
            "align_items": null,
            "align_self": null,
            "border": null,
            "bottom": null,
            "display": null,
            "flex": null,
            "flex_flow": null,
            "grid_area": null,
            "grid_auto_columns": null,
            "grid_auto_flow": null,
            "grid_auto_rows": null,
            "grid_column": null,
            "grid_gap": null,
            "grid_row": null,
            "grid_template_areas": null,
            "grid_template_columns": null,
            "grid_template_rows": null,
            "height": null,
            "justify_content": null,
            "justify_items": null,
            "left": null,
            "margin": null,
            "max_height": null,
            "max_width": null,
            "min_height": null,
            "min_width": null,
            "object_fit": null,
            "object_position": null,
            "order": null,
            "overflow": null,
            "overflow_x": null,
            "overflow_y": null,
            "padding": null,
            "right": null,
            "top": null,
            "visibility": null,
            "width": null
          }
        },
        "e61a68390aa54101a28e81d2c1a88ba8": {
          "model_module": "@jupyter-widgets/controls",
          "model_name": "DescriptionStyleModel",
          "model_module_version": "1.5.0",
          "state": {
            "_model_module": "@jupyter-widgets/controls",
            "_model_module_version": "1.5.0",
            "_model_name": "DescriptionStyleModel",
            "_view_count": null,
            "_view_module": "@jupyter-widgets/base",
            "_view_module_version": "1.2.0",
            "_view_name": "StyleView",
            "description_width": ""
          }
        },
        "b4b0612b2dce453c9335b84679a8e535": {
          "model_module": "@jupyter-widgets/controls",
          "model_name": "HBoxModel",
          "model_module_version": "1.5.0",
          "state": {
            "_dom_classes": [],
            "_model_module": "@jupyter-widgets/controls",
            "_model_module_version": "1.5.0",
            "_model_name": "HBoxModel",
            "_view_count": null,
            "_view_module": "@jupyter-widgets/controls",
            "_view_module_version": "1.5.0",
            "_view_name": "HBoxView",
            "box_style": "",
            "children": [
              "IPY_MODEL_e959df042fd1402ba6d21fb8988a0078",
              "IPY_MODEL_c40dabd1cad04a26a5fb8effdc4c5222",
              "IPY_MODEL_ca6d2fdbd27447a085e6c93de62b68da"
            ],
            "layout": "IPY_MODEL_181d1688e89647d09c6841cd9bc54fc1"
          }
        },
        "e959df042fd1402ba6d21fb8988a0078": {
          "model_module": "@jupyter-widgets/controls",
          "model_name": "HTMLModel",
          "model_module_version": "1.5.0",
          "state": {
            "_dom_classes": [],
            "_model_module": "@jupyter-widgets/controls",
            "_model_module_version": "1.5.0",
            "_model_name": "HTMLModel",
            "_view_count": null,
            "_view_module": "@jupyter-widgets/controls",
            "_view_module_version": "1.5.0",
            "_view_name": "HTMLView",
            "description": "",
            "description_tooltip": null,
            "layout": "IPY_MODEL_d3cfd9c8cb674a8ca29994147981cda0",
            "placeholder": "​",
            "style": "IPY_MODEL_49cffa48befe4708af93e0ebeac5ddf0",
            "value": "Downloading https://huggingface.co/stanfordnlp/stanza-grc/resolve/v1.4.0/models/lemma/proiel.pt: 100%"
          }
        },
        "c40dabd1cad04a26a5fb8effdc4c5222": {
          "model_module": "@jupyter-widgets/controls",
          "model_name": "FloatProgressModel",
          "model_module_version": "1.5.0",
          "state": {
            "_dom_classes": [],
            "_model_module": "@jupyter-widgets/controls",
            "_model_module_version": "1.5.0",
            "_model_name": "FloatProgressModel",
            "_view_count": null,
            "_view_module": "@jupyter-widgets/controls",
            "_view_module_version": "1.5.0",
            "_view_name": "ProgressView",
            "bar_style": "success",
            "description": "",
            "description_tooltip": null,
            "layout": "IPY_MODEL_2a19c27d870e4ccfa313bcbcdbf66615",
            "max": 4559986,
            "min": 0,
            "orientation": "horizontal",
            "style": "IPY_MODEL_2a5e8e7b037e4311a9c54f3e4405c9ce",
            "value": 4559986
          }
        },
        "ca6d2fdbd27447a085e6c93de62b68da": {
          "model_module": "@jupyter-widgets/controls",
          "model_name": "HTMLModel",
          "model_module_version": "1.5.0",
          "state": {
            "_dom_classes": [],
            "_model_module": "@jupyter-widgets/controls",
            "_model_module_version": "1.5.0",
            "_model_name": "HTMLModel",
            "_view_count": null,
            "_view_module": "@jupyter-widgets/controls",
            "_view_module_version": "1.5.0",
            "_view_name": "HTMLView",
            "description": "",
            "description_tooltip": null,
            "layout": "IPY_MODEL_76fb2c509a504577b1bb6343c8537fa9",
            "placeholder": "​",
            "style": "IPY_MODEL_80b2a0caef014f5f99038a20a0437368",
            "value": " 4.56M/4.56M [00:00&lt;00:00, 18.2MB/s]"
          }
        },
        "181d1688e89647d09c6841cd9bc54fc1": {
          "model_module": "@jupyter-widgets/base",
          "model_name": "LayoutModel",
          "model_module_version": "1.2.0",
          "state": {
            "_model_module": "@jupyter-widgets/base",
            "_model_module_version": "1.2.0",
            "_model_name": "LayoutModel",
            "_view_count": null,
            "_view_module": "@jupyter-widgets/base",
            "_view_module_version": "1.2.0",
            "_view_name": "LayoutView",
            "align_content": null,
            "align_items": null,
            "align_self": null,
            "border": null,
            "bottom": null,
            "display": null,
            "flex": null,
            "flex_flow": null,
            "grid_area": null,
            "grid_auto_columns": null,
            "grid_auto_flow": null,
            "grid_auto_rows": null,
            "grid_column": null,
            "grid_gap": null,
            "grid_row": null,
            "grid_template_areas": null,
            "grid_template_columns": null,
            "grid_template_rows": null,
            "height": null,
            "justify_content": null,
            "justify_items": null,
            "left": null,
            "margin": null,
            "max_height": null,
            "max_width": null,
            "min_height": null,
            "min_width": null,
            "object_fit": null,
            "object_position": null,
            "order": null,
            "overflow": null,
            "overflow_x": null,
            "overflow_y": null,
            "padding": null,
            "right": null,
            "top": null,
            "visibility": null,
            "width": null
          }
        },
        "d3cfd9c8cb674a8ca29994147981cda0": {
          "model_module": "@jupyter-widgets/base",
          "model_name": "LayoutModel",
          "model_module_version": "1.2.0",
          "state": {
            "_model_module": "@jupyter-widgets/base",
            "_model_module_version": "1.2.0",
            "_model_name": "LayoutModel",
            "_view_count": null,
            "_view_module": "@jupyter-widgets/base",
            "_view_module_version": "1.2.0",
            "_view_name": "LayoutView",
            "align_content": null,
            "align_items": null,
            "align_self": null,
            "border": null,
            "bottom": null,
            "display": null,
            "flex": null,
            "flex_flow": null,
            "grid_area": null,
            "grid_auto_columns": null,
            "grid_auto_flow": null,
            "grid_auto_rows": null,
            "grid_column": null,
            "grid_gap": null,
            "grid_row": null,
            "grid_template_areas": null,
            "grid_template_columns": null,
            "grid_template_rows": null,
            "height": null,
            "justify_content": null,
            "justify_items": null,
            "left": null,
            "margin": null,
            "max_height": null,
            "max_width": null,
            "min_height": null,
            "min_width": null,
            "object_fit": null,
            "object_position": null,
            "order": null,
            "overflow": null,
            "overflow_x": null,
            "overflow_y": null,
            "padding": null,
            "right": null,
            "top": null,
            "visibility": null,
            "width": null
          }
        },
        "49cffa48befe4708af93e0ebeac5ddf0": {
          "model_module": "@jupyter-widgets/controls",
          "model_name": "DescriptionStyleModel",
          "model_module_version": "1.5.0",
          "state": {
            "_model_module": "@jupyter-widgets/controls",
            "_model_module_version": "1.5.0",
            "_model_name": "DescriptionStyleModel",
            "_view_count": null,
            "_view_module": "@jupyter-widgets/base",
            "_view_module_version": "1.2.0",
            "_view_name": "StyleView",
            "description_width": ""
          }
        },
        "2a19c27d870e4ccfa313bcbcdbf66615": {
          "model_module": "@jupyter-widgets/base",
          "model_name": "LayoutModel",
          "model_module_version": "1.2.0",
          "state": {
            "_model_module": "@jupyter-widgets/base",
            "_model_module_version": "1.2.0",
            "_model_name": "LayoutModel",
            "_view_count": null,
            "_view_module": "@jupyter-widgets/base",
            "_view_module_version": "1.2.0",
            "_view_name": "LayoutView",
            "align_content": null,
            "align_items": null,
            "align_self": null,
            "border": null,
            "bottom": null,
            "display": null,
            "flex": null,
            "flex_flow": null,
            "grid_area": null,
            "grid_auto_columns": null,
            "grid_auto_flow": null,
            "grid_auto_rows": null,
            "grid_column": null,
            "grid_gap": null,
            "grid_row": null,
            "grid_template_areas": null,
            "grid_template_columns": null,
            "grid_template_rows": null,
            "height": null,
            "justify_content": null,
            "justify_items": null,
            "left": null,
            "margin": null,
            "max_height": null,
            "max_width": null,
            "min_height": null,
            "min_width": null,
            "object_fit": null,
            "object_position": null,
            "order": null,
            "overflow": null,
            "overflow_x": null,
            "overflow_y": null,
            "padding": null,
            "right": null,
            "top": null,
            "visibility": null,
            "width": null
          }
        },
        "2a5e8e7b037e4311a9c54f3e4405c9ce": {
          "model_module": "@jupyter-widgets/controls",
          "model_name": "ProgressStyleModel",
          "model_module_version": "1.5.0",
          "state": {
            "_model_module": "@jupyter-widgets/controls",
            "_model_module_version": "1.5.0",
            "_model_name": "ProgressStyleModel",
            "_view_count": null,
            "_view_module": "@jupyter-widgets/base",
            "_view_module_version": "1.2.0",
            "_view_name": "StyleView",
            "bar_color": null,
            "description_width": ""
          }
        },
        "76fb2c509a504577b1bb6343c8537fa9": {
          "model_module": "@jupyter-widgets/base",
          "model_name": "LayoutModel",
          "model_module_version": "1.2.0",
          "state": {
            "_model_module": "@jupyter-widgets/base",
            "_model_module_version": "1.2.0",
            "_model_name": "LayoutModel",
            "_view_count": null,
            "_view_module": "@jupyter-widgets/base",
            "_view_module_version": "1.2.0",
            "_view_name": "LayoutView",
            "align_content": null,
            "align_items": null,
            "align_self": null,
            "border": null,
            "bottom": null,
            "display": null,
            "flex": null,
            "flex_flow": null,
            "grid_area": null,
            "grid_auto_columns": null,
            "grid_auto_flow": null,
            "grid_auto_rows": null,
            "grid_column": null,
            "grid_gap": null,
            "grid_row": null,
            "grid_template_areas": null,
            "grid_template_columns": null,
            "grid_template_rows": null,
            "height": null,
            "justify_content": null,
            "justify_items": null,
            "left": null,
            "margin": null,
            "max_height": null,
            "max_width": null,
            "min_height": null,
            "min_width": null,
            "object_fit": null,
            "object_position": null,
            "order": null,
            "overflow": null,
            "overflow_x": null,
            "overflow_y": null,
            "padding": null,
            "right": null,
            "top": null,
            "visibility": null,
            "width": null
          }
        },
        "80b2a0caef014f5f99038a20a0437368": {
          "model_module": "@jupyter-widgets/controls",
          "model_name": "DescriptionStyleModel",
          "model_module_version": "1.5.0",
          "state": {
            "_model_module": "@jupyter-widgets/controls",
            "_model_module_version": "1.5.0",
            "_model_name": "DescriptionStyleModel",
            "_view_count": null,
            "_view_module": "@jupyter-widgets/base",
            "_view_module_version": "1.2.0",
            "_view_name": "StyleView",
            "description_width": ""
          }
        },
        "7b5595cfb88947c39d4e4c4216b1bd03": {
          "model_module": "@jupyter-widgets/controls",
          "model_name": "HBoxModel",
          "model_module_version": "1.5.0",
          "state": {
            "_dom_classes": [],
            "_model_module": "@jupyter-widgets/controls",
            "_model_module_version": "1.5.0",
            "_model_name": "HBoxModel",
            "_view_count": null,
            "_view_module": "@jupyter-widgets/controls",
            "_view_module_version": "1.5.0",
            "_view_name": "HBoxView",
            "box_style": "",
            "children": [
              "IPY_MODEL_b32fc6bad59c43ecb2114b2040c1f2a6",
              "IPY_MODEL_9e8860fe5bc4421db7ea61ee53cd1a08",
              "IPY_MODEL_b92a9f7c8f7f4147956f6393930c685d"
            ],
            "layout": "IPY_MODEL_6d8f266e75c7443eb826fc5b74c403ac"
          }
        },
        "b32fc6bad59c43ecb2114b2040c1f2a6": {
          "model_module": "@jupyter-widgets/controls",
          "model_name": "HTMLModel",
          "model_module_version": "1.5.0",
          "state": {
            "_dom_classes": [],
            "_model_module": "@jupyter-widgets/controls",
            "_model_module_version": "1.5.0",
            "_model_name": "HTMLModel",
            "_view_count": null,
            "_view_module": "@jupyter-widgets/controls",
            "_view_module_version": "1.5.0",
            "_view_name": "HTMLView",
            "description": "",
            "description_tooltip": null,
            "layout": "IPY_MODEL_abc6c2b9f51f433fb1bf5fd6fc16161c",
            "placeholder": "​",
            "style": "IPY_MODEL_86c1c717185248f78422f926ea5fc0e8",
            "value": "Downloading https://huggingface.co/stanfordnlp/stanza-grc/resolve/v1.4.0/models/depparse/proiel.pt: 100%"
          }
        },
        "9e8860fe5bc4421db7ea61ee53cd1a08": {
          "model_module": "@jupyter-widgets/controls",
          "model_name": "FloatProgressModel",
          "model_module_version": "1.5.0",
          "state": {
            "_dom_classes": [],
            "_model_module": "@jupyter-widgets/controls",
            "_model_module_version": "1.5.0",
            "_model_name": "FloatProgressModel",
            "_view_count": null,
            "_view_module": "@jupyter-widgets/controls",
            "_view_module_version": "1.5.0",
            "_view_name": "ProgressView",
            "bar_style": "success",
            "description": "",
            "description_tooltip": null,
            "layout": "IPY_MODEL_8d45ca89a280465f8c9e946fb5ee3577",
            "max": 96994554,
            "min": 0,
            "orientation": "horizontal",
            "style": "IPY_MODEL_157922a342134769895de0f77d48a403",
            "value": 96994554
          }
        },
        "b92a9f7c8f7f4147956f6393930c685d": {
          "model_module": "@jupyter-widgets/controls",
          "model_name": "HTMLModel",
          "model_module_version": "1.5.0",
          "state": {
            "_dom_classes": [],
            "_model_module": "@jupyter-widgets/controls",
            "_model_module_version": "1.5.0",
            "_model_name": "HTMLModel",
            "_view_count": null,
            "_view_module": "@jupyter-widgets/controls",
            "_view_module_version": "1.5.0",
            "_view_name": "HTMLView",
            "description": "",
            "description_tooltip": null,
            "layout": "IPY_MODEL_0ded58ad31204085ac1a7e21cc0fe9ed",
            "placeholder": "​",
            "style": "IPY_MODEL_fe010000dbaf45d193e7bdffb8721e24",
            "value": " 97.0M/97.0M [00:00&lt;00:00, 123MB/s]"
          }
        },
        "6d8f266e75c7443eb826fc5b74c403ac": {
          "model_module": "@jupyter-widgets/base",
          "model_name": "LayoutModel",
          "model_module_version": "1.2.0",
          "state": {
            "_model_module": "@jupyter-widgets/base",
            "_model_module_version": "1.2.0",
            "_model_name": "LayoutModel",
            "_view_count": null,
            "_view_module": "@jupyter-widgets/base",
            "_view_module_version": "1.2.0",
            "_view_name": "LayoutView",
            "align_content": null,
            "align_items": null,
            "align_self": null,
            "border": null,
            "bottom": null,
            "display": null,
            "flex": null,
            "flex_flow": null,
            "grid_area": null,
            "grid_auto_columns": null,
            "grid_auto_flow": null,
            "grid_auto_rows": null,
            "grid_column": null,
            "grid_gap": null,
            "grid_row": null,
            "grid_template_areas": null,
            "grid_template_columns": null,
            "grid_template_rows": null,
            "height": null,
            "justify_content": null,
            "justify_items": null,
            "left": null,
            "margin": null,
            "max_height": null,
            "max_width": null,
            "min_height": null,
            "min_width": null,
            "object_fit": null,
            "object_position": null,
            "order": null,
            "overflow": null,
            "overflow_x": null,
            "overflow_y": null,
            "padding": null,
            "right": null,
            "top": null,
            "visibility": null,
            "width": null
          }
        },
        "abc6c2b9f51f433fb1bf5fd6fc16161c": {
          "model_module": "@jupyter-widgets/base",
          "model_name": "LayoutModel",
          "model_module_version": "1.2.0",
          "state": {
            "_model_module": "@jupyter-widgets/base",
            "_model_module_version": "1.2.0",
            "_model_name": "LayoutModel",
            "_view_count": null,
            "_view_module": "@jupyter-widgets/base",
            "_view_module_version": "1.2.0",
            "_view_name": "LayoutView",
            "align_content": null,
            "align_items": null,
            "align_self": null,
            "border": null,
            "bottom": null,
            "display": null,
            "flex": null,
            "flex_flow": null,
            "grid_area": null,
            "grid_auto_columns": null,
            "grid_auto_flow": null,
            "grid_auto_rows": null,
            "grid_column": null,
            "grid_gap": null,
            "grid_row": null,
            "grid_template_areas": null,
            "grid_template_columns": null,
            "grid_template_rows": null,
            "height": null,
            "justify_content": null,
            "justify_items": null,
            "left": null,
            "margin": null,
            "max_height": null,
            "max_width": null,
            "min_height": null,
            "min_width": null,
            "object_fit": null,
            "object_position": null,
            "order": null,
            "overflow": null,
            "overflow_x": null,
            "overflow_y": null,
            "padding": null,
            "right": null,
            "top": null,
            "visibility": null,
            "width": null
          }
        },
        "86c1c717185248f78422f926ea5fc0e8": {
          "model_module": "@jupyter-widgets/controls",
          "model_name": "DescriptionStyleModel",
          "model_module_version": "1.5.0",
          "state": {
            "_model_module": "@jupyter-widgets/controls",
            "_model_module_version": "1.5.0",
            "_model_name": "DescriptionStyleModel",
            "_view_count": null,
            "_view_module": "@jupyter-widgets/base",
            "_view_module_version": "1.2.0",
            "_view_name": "StyleView",
            "description_width": ""
          }
        },
        "8d45ca89a280465f8c9e946fb5ee3577": {
          "model_module": "@jupyter-widgets/base",
          "model_name": "LayoutModel",
          "model_module_version": "1.2.0",
          "state": {
            "_model_module": "@jupyter-widgets/base",
            "_model_module_version": "1.2.0",
            "_model_name": "LayoutModel",
            "_view_count": null,
            "_view_module": "@jupyter-widgets/base",
            "_view_module_version": "1.2.0",
            "_view_name": "LayoutView",
            "align_content": null,
            "align_items": null,
            "align_self": null,
            "border": null,
            "bottom": null,
            "display": null,
            "flex": null,
            "flex_flow": null,
            "grid_area": null,
            "grid_auto_columns": null,
            "grid_auto_flow": null,
            "grid_auto_rows": null,
            "grid_column": null,
            "grid_gap": null,
            "grid_row": null,
            "grid_template_areas": null,
            "grid_template_columns": null,
            "grid_template_rows": null,
            "height": null,
            "justify_content": null,
            "justify_items": null,
            "left": null,
            "margin": null,
            "max_height": null,
            "max_width": null,
            "min_height": null,
            "min_width": null,
            "object_fit": null,
            "object_position": null,
            "order": null,
            "overflow": null,
            "overflow_x": null,
            "overflow_y": null,
            "padding": null,
            "right": null,
            "top": null,
            "visibility": null,
            "width": null
          }
        },
        "157922a342134769895de0f77d48a403": {
          "model_module": "@jupyter-widgets/controls",
          "model_name": "ProgressStyleModel",
          "model_module_version": "1.5.0",
          "state": {
            "_model_module": "@jupyter-widgets/controls",
            "_model_module_version": "1.5.0",
            "_model_name": "ProgressStyleModel",
            "_view_count": null,
            "_view_module": "@jupyter-widgets/base",
            "_view_module_version": "1.2.0",
            "_view_name": "StyleView",
            "bar_color": null,
            "description_width": ""
          }
        },
        "0ded58ad31204085ac1a7e21cc0fe9ed": {
          "model_module": "@jupyter-widgets/base",
          "model_name": "LayoutModel",
          "model_module_version": "1.2.0",
          "state": {
            "_model_module": "@jupyter-widgets/base",
            "_model_module_version": "1.2.0",
            "_model_name": "LayoutModel",
            "_view_count": null,
            "_view_module": "@jupyter-widgets/base",
            "_view_module_version": "1.2.0",
            "_view_name": "LayoutView",
            "align_content": null,
            "align_items": null,
            "align_self": null,
            "border": null,
            "bottom": null,
            "display": null,
            "flex": null,
            "flex_flow": null,
            "grid_area": null,
            "grid_auto_columns": null,
            "grid_auto_flow": null,
            "grid_auto_rows": null,
            "grid_column": null,
            "grid_gap": null,
            "grid_row": null,
            "grid_template_areas": null,
            "grid_template_columns": null,
            "grid_template_rows": null,
            "height": null,
            "justify_content": null,
            "justify_items": null,
            "left": null,
            "margin": null,
            "max_height": null,
            "max_width": null,
            "min_height": null,
            "min_width": null,
            "object_fit": null,
            "object_position": null,
            "order": null,
            "overflow": null,
            "overflow_x": null,
            "overflow_y": null,
            "padding": null,
            "right": null,
            "top": null,
            "visibility": null,
            "width": null
          }
        },
        "fe010000dbaf45d193e7bdffb8721e24": {
          "model_module": "@jupyter-widgets/controls",
          "model_name": "DescriptionStyleModel",
          "model_module_version": "1.5.0",
          "state": {
            "_model_module": "@jupyter-widgets/controls",
            "_model_module_version": "1.5.0",
            "_model_name": "DescriptionStyleModel",
            "_view_count": null,
            "_view_module": "@jupyter-widgets/base",
            "_view_module_version": "1.2.0",
            "_view_name": "StyleView",
            "description_width": ""
          }
        },
        "4a50e97705ca44c3a42708271deb1d2f": {
          "model_module": "@jupyter-widgets/controls",
          "model_name": "HBoxModel",
          "model_module_version": "1.5.0",
          "state": {
            "_dom_classes": [],
            "_model_module": "@jupyter-widgets/controls",
            "_model_module_version": "1.5.0",
            "_model_name": "HBoxModel",
            "_view_count": null,
            "_view_module": "@jupyter-widgets/controls",
            "_view_module_version": "1.5.0",
            "_view_name": "HBoxView",
            "box_style": "",
            "children": [
              "IPY_MODEL_c6954aa3b80c4b5caa2060b53b6f3b87",
              "IPY_MODEL_59c6a2b7f76e49b7881dbc561e65687b",
              "IPY_MODEL_4d6dd79268a946fc8b1661096f2268d2"
            ],
            "layout": "IPY_MODEL_6c8c8d6ccc504b528b0c83c0c3e8c411"
          }
        },
        "c6954aa3b80c4b5caa2060b53b6f3b87": {
          "model_module": "@jupyter-widgets/controls",
          "model_name": "HTMLModel",
          "model_module_version": "1.5.0",
          "state": {
            "_dom_classes": [],
            "_model_module": "@jupyter-widgets/controls",
            "_model_module_version": "1.5.0",
            "_model_name": "HTMLModel",
            "_view_count": null,
            "_view_module": "@jupyter-widgets/controls",
            "_view_module_version": "1.5.0",
            "_view_name": "HTMLView",
            "description": "",
            "description_tooltip": null,
            "layout": "IPY_MODEL_9f9dbbc56d0d4f709dc799861ae888c0",
            "placeholder": "​",
            "style": "IPY_MODEL_1bfec52f17da439ba341aa4bfb0d846e",
            "value": "Downloading https://huggingface.co/stanfordnlp/stanza-grc/resolve/v1.4.0/models/pretrain/proiel.pt: 100%"
          }
        },
        "59c6a2b7f76e49b7881dbc561e65687b": {
          "model_module": "@jupyter-widgets/controls",
          "model_name": "FloatProgressModel",
          "model_module_version": "1.5.0",
          "state": {
            "_dom_classes": [],
            "_model_module": "@jupyter-widgets/controls",
            "_model_module_version": "1.5.0",
            "_model_name": "FloatProgressModel",
            "_view_count": null,
            "_view_module": "@jupyter-widgets/controls",
            "_view_module_version": "1.5.0",
            "_view_name": "ProgressView",
            "bar_style": "success",
            "description": "",
            "description_tooltip": null,
            "layout": "IPY_MODEL_6e87bc5e8e42462aab53b5dd6f399855",
            "max": 19844380,
            "min": 0,
            "orientation": "horizontal",
            "style": "IPY_MODEL_d77e48fe23464145a2fdd58b4dbb1e36",
            "value": 19844380
          }
        },
        "4d6dd79268a946fc8b1661096f2268d2": {
          "model_module": "@jupyter-widgets/controls",
          "model_name": "HTMLModel",
          "model_module_version": "1.5.0",
          "state": {
            "_dom_classes": [],
            "_model_module": "@jupyter-widgets/controls",
            "_model_module_version": "1.5.0",
            "_model_name": "HTMLModel",
            "_view_count": null,
            "_view_module": "@jupyter-widgets/controls",
            "_view_module_version": "1.5.0",
            "_view_name": "HTMLView",
            "description": "",
            "description_tooltip": null,
            "layout": "IPY_MODEL_e1eeeb209bbe491abc32a439bd147111",
            "placeholder": "​",
            "style": "IPY_MODEL_4eaaf10cbb48467eae1397824c713114",
            "value": " 19.8M/19.8M [00:00&lt;00:00, 50.8MB/s]"
          }
        },
        "6c8c8d6ccc504b528b0c83c0c3e8c411": {
          "model_module": "@jupyter-widgets/base",
          "model_name": "LayoutModel",
          "model_module_version": "1.2.0",
          "state": {
            "_model_module": "@jupyter-widgets/base",
            "_model_module_version": "1.2.0",
            "_model_name": "LayoutModel",
            "_view_count": null,
            "_view_module": "@jupyter-widgets/base",
            "_view_module_version": "1.2.0",
            "_view_name": "LayoutView",
            "align_content": null,
            "align_items": null,
            "align_self": null,
            "border": null,
            "bottom": null,
            "display": null,
            "flex": null,
            "flex_flow": null,
            "grid_area": null,
            "grid_auto_columns": null,
            "grid_auto_flow": null,
            "grid_auto_rows": null,
            "grid_column": null,
            "grid_gap": null,
            "grid_row": null,
            "grid_template_areas": null,
            "grid_template_columns": null,
            "grid_template_rows": null,
            "height": null,
            "justify_content": null,
            "justify_items": null,
            "left": null,
            "margin": null,
            "max_height": null,
            "max_width": null,
            "min_height": null,
            "min_width": null,
            "object_fit": null,
            "object_position": null,
            "order": null,
            "overflow": null,
            "overflow_x": null,
            "overflow_y": null,
            "padding": null,
            "right": null,
            "top": null,
            "visibility": null,
            "width": null
          }
        },
        "9f9dbbc56d0d4f709dc799861ae888c0": {
          "model_module": "@jupyter-widgets/base",
          "model_name": "LayoutModel",
          "model_module_version": "1.2.0",
          "state": {
            "_model_module": "@jupyter-widgets/base",
            "_model_module_version": "1.2.0",
            "_model_name": "LayoutModel",
            "_view_count": null,
            "_view_module": "@jupyter-widgets/base",
            "_view_module_version": "1.2.0",
            "_view_name": "LayoutView",
            "align_content": null,
            "align_items": null,
            "align_self": null,
            "border": null,
            "bottom": null,
            "display": null,
            "flex": null,
            "flex_flow": null,
            "grid_area": null,
            "grid_auto_columns": null,
            "grid_auto_flow": null,
            "grid_auto_rows": null,
            "grid_column": null,
            "grid_gap": null,
            "grid_row": null,
            "grid_template_areas": null,
            "grid_template_columns": null,
            "grid_template_rows": null,
            "height": null,
            "justify_content": null,
            "justify_items": null,
            "left": null,
            "margin": null,
            "max_height": null,
            "max_width": null,
            "min_height": null,
            "min_width": null,
            "object_fit": null,
            "object_position": null,
            "order": null,
            "overflow": null,
            "overflow_x": null,
            "overflow_y": null,
            "padding": null,
            "right": null,
            "top": null,
            "visibility": null,
            "width": null
          }
        },
        "1bfec52f17da439ba341aa4bfb0d846e": {
          "model_module": "@jupyter-widgets/controls",
          "model_name": "DescriptionStyleModel",
          "model_module_version": "1.5.0",
          "state": {
            "_model_module": "@jupyter-widgets/controls",
            "_model_module_version": "1.5.0",
            "_model_name": "DescriptionStyleModel",
            "_view_count": null,
            "_view_module": "@jupyter-widgets/base",
            "_view_module_version": "1.2.0",
            "_view_name": "StyleView",
            "description_width": ""
          }
        },
        "6e87bc5e8e42462aab53b5dd6f399855": {
          "model_module": "@jupyter-widgets/base",
          "model_name": "LayoutModel",
          "model_module_version": "1.2.0",
          "state": {
            "_model_module": "@jupyter-widgets/base",
            "_model_module_version": "1.2.0",
            "_model_name": "LayoutModel",
            "_view_count": null,
            "_view_module": "@jupyter-widgets/base",
            "_view_module_version": "1.2.0",
            "_view_name": "LayoutView",
            "align_content": null,
            "align_items": null,
            "align_self": null,
            "border": null,
            "bottom": null,
            "display": null,
            "flex": null,
            "flex_flow": null,
            "grid_area": null,
            "grid_auto_columns": null,
            "grid_auto_flow": null,
            "grid_auto_rows": null,
            "grid_column": null,
            "grid_gap": null,
            "grid_row": null,
            "grid_template_areas": null,
            "grid_template_columns": null,
            "grid_template_rows": null,
            "height": null,
            "justify_content": null,
            "justify_items": null,
            "left": null,
            "margin": null,
            "max_height": null,
            "max_width": null,
            "min_height": null,
            "min_width": null,
            "object_fit": null,
            "object_position": null,
            "order": null,
            "overflow": null,
            "overflow_x": null,
            "overflow_y": null,
            "padding": null,
            "right": null,
            "top": null,
            "visibility": null,
            "width": null
          }
        },
        "d77e48fe23464145a2fdd58b4dbb1e36": {
          "model_module": "@jupyter-widgets/controls",
          "model_name": "ProgressStyleModel",
          "model_module_version": "1.5.0",
          "state": {
            "_model_module": "@jupyter-widgets/controls",
            "_model_module_version": "1.5.0",
            "_model_name": "ProgressStyleModel",
            "_view_count": null,
            "_view_module": "@jupyter-widgets/base",
            "_view_module_version": "1.2.0",
            "_view_name": "StyleView",
            "bar_color": null,
            "description_width": ""
          }
        },
        "e1eeeb209bbe491abc32a439bd147111": {
          "model_module": "@jupyter-widgets/base",
          "model_name": "LayoutModel",
          "model_module_version": "1.2.0",
          "state": {
            "_model_module": "@jupyter-widgets/base",
            "_model_module_version": "1.2.0",
            "_model_name": "LayoutModel",
            "_view_count": null,
            "_view_module": "@jupyter-widgets/base",
            "_view_module_version": "1.2.0",
            "_view_name": "LayoutView",
            "align_content": null,
            "align_items": null,
            "align_self": null,
            "border": null,
            "bottom": null,
            "display": null,
            "flex": null,
            "flex_flow": null,
            "grid_area": null,
            "grid_auto_columns": null,
            "grid_auto_flow": null,
            "grid_auto_rows": null,
            "grid_column": null,
            "grid_gap": null,
            "grid_row": null,
            "grid_template_areas": null,
            "grid_template_columns": null,
            "grid_template_rows": null,
            "height": null,
            "justify_content": null,
            "justify_items": null,
            "left": null,
            "margin": null,
            "max_height": null,
            "max_width": null,
            "min_height": null,
            "min_width": null,
            "object_fit": null,
            "object_position": null,
            "order": null,
            "overflow": null,
            "overflow_x": null,
            "overflow_y": null,
            "padding": null,
            "right": null,
            "top": null,
            "visibility": null,
            "width": null
          }
        },
        "4eaaf10cbb48467eae1397824c713114": {
          "model_module": "@jupyter-widgets/controls",
          "model_name": "DescriptionStyleModel",
          "model_module_version": "1.5.0",
          "state": {
            "_model_module": "@jupyter-widgets/controls",
            "_model_module_version": "1.5.0",
            "_model_name": "DescriptionStyleModel",
            "_view_count": null,
            "_view_module": "@jupyter-widgets/base",
            "_view_module_version": "1.2.0",
            "_view_name": "StyleView",
            "description_width": ""
          }
        }
      }
    }
  },
  "cells": [
    {
      "cell_type": "markdown",
      "metadata": {
        "id": "view-in-github",
        "colab_type": "text"
      },
      "source": [
        "<a href=\"https://colab.research.google.com/github/OdysseusPolymetis/neolatin2022/blob/main/neolatin2022.ipynb\" target=\"_parent\"><img src=\"https://colab.research.google.com/assets/colab-badge.svg\" alt=\"Open In Colab\"/></a>"
      ]
    },
    {
      "cell_type": "markdown",
      "source": [
        "#<center>**Neolatin 2022**</center>\n",
        "<br>\n",
        "<br>\n",
        "Quelques outils pour vos besoins.\n",
        "<br>Je ne rappellerai pas ici quelles sont les bases de données disponibles en ligne. Je veux plutôt vous montrer différents outils qui peuvent être utiles à chaque étape de votre analyse."
      ],
      "metadata": {
        "id": "DOundff4F735"
      }
    },
    {
      "cell_type": "markdown",
      "source": [
        "#**Acquérir le texte**"
      ],
      "metadata": {
        "id": "-F8xOIIZGf7s"
      }
    },
    {
      "cell_type": "markdown",
      "source": [
        "Ce passage, c'est le passage de l'**OCR**. Il y a des progrès exponentiels de ce point de vue.\n",
        "<br>En gros, vous avez deux choix, en fonction de votre capacité. Soit vous prenez des outils payants, faciles à manipuler pour les gens qui ne savent pas programmer, soit vous utilisez des outils libres (souvent plus performants), mais il faut savoir les utiliser.\n",
        "<br>Je vais vous montrer les deux."
      ],
      "metadata": {
        "id": "LaOZ-8lGGldz"
      }
    },
    {
      "cell_type": "markdown",
      "source": [
        "##**Premier logiciel de base : ABBYY**"
      ],
      "metadata": {
        "id": "GeuMty5tM0iK"
      }
    },
    {
      "cell_type": "markdown",
      "source": [
        "C'est un outil qui pour moi est maintenant dépassé. Mais il peut être utile pour plusieurs raisons. D'abord, il est facile à utiliser, et peut se connecter directement à votre matériel de numérisation. Ensuite, il permet une manipulation de l'image, et donc un prétraitement, très utile. Enfin, il propose plusieurs types de sorties intéressantes, selon vos besoins.\n",
        "<br>Démo ici :"
      ],
      "metadata": {
        "id": "ExMA-lEeM7MK"
      }
    },
    {
      "cell_type": "markdown",
      "source": [
        "##**Deuxième logiciel, plus performant : transkribus**"
      ],
      "metadata": {
        "id": "f_v7Ryw2OQU4"
      }
    },
    {
      "cell_type": "markdown",
      "source": [
        "C'est le logiciel que j'utilise le plus souvent pour une OCRisation rapide et de qualité. Mais ce n'est pas un logiciel libre (limitation du nombre de pages, même s'il y en a beaucoup), et les manipulations sont globalement compliquées."
      ],
      "metadata": {
        "id": "s1fn__5hOain"
      }
    },
    {
      "cell_type": "code",
      "execution_count": null,
      "metadata": {
        "colab": {
          "base_uri": "https://localhost:8080/",
          "height": 321
        },
        "id": "Uh8vNJa4FA5k",
        "outputId": "63297cbb-aaca-4821-aa62-9c00d35dd763"
      },
      "outputs": [
        {
          "output_type": "execute_result",
          "data": {
            "text/plain": [
              "<IPython.lib.display.YouTubeVideo at 0x7f72f9b3c490>"
            ],
            "text/html": [
              "\n",
              "        <iframe\n",
              "            width=\"400\"\n",
              "            height=\"300\"\n",
              "            src=\"https://www.youtube.com/embed/1T0O8gS4aNo\"\n",
              "            frameborder=\"0\"\n",
              "            allowfullscreen\n",
              "        ></iframe>\n",
              "        "
            ],
            "image/jpeg": "[encoded data removed]"
          },
          "metadata": {},
          "execution_count": 1
        }
      ],
      "source": [
        "from IPython.display import YouTubeVideo\n",
        "YouTubeVideo('1T0O8gS4aNo')"
      ]
    },
    {
      "cell_type": "markdown",
      "source": [
        "##**Troisième logiciel : l'avenir, avec eScriptorium et Kraken**"
      ],
      "metadata": {
        "id": "FkYP2_liOp9O"
      }
    },
    {
      "cell_type": "markdown",
      "source": [
        "Le gros problème de l'installation d'escriptorium, c'est qu'il faut savoir se débrouiller un minimum avec son ordinateur, ou avoir un compte pour utiliser l'interface en ligne.\n",
        "<br>Voilà comment on l'installe. Et globalement c'est compliqué pour un néophyte.\n",
        "<br>Vous avez deux possibilités. D'abord une installation partielle, avec Docker, ou une installation complète avec python uniquement. Si vous ne connaissez pas déjà python et les environnements virtuels, passez par Docker."
      ],
      "metadata": {
        "id": "m3A9FzcPOzkH"
      }
    },
    {
      "cell_type": "markdown",
      "source": [
        "Commencez par installer Docker sur votre ordinateur.\n",
        "<br>Sur ce [lien](https://docs.docker.com/desktop/windows/install/), vous avez accès à Docker via Windows et Mac.\n",
        "<br>Sous Linux, il vous faut rentrer les commandes suivantes dans un terminal:\n",
        "<br>DOCKER_CONFIG=\\$\\{DOCKER_CONFIG:-$HOME/.docker\\}\n",
        "<br>mkdir -p \\$DOCKER_CONFIG/cli-plugins\n",
        "<br>curl -SL https://github.com/docker/compose/releases/download/v2.6.1/docker-compose-linux-x86_64 -o \\$DOCKER_CONFIG/cli-plugins/docker-compose\n",
        "<br>chmod +x \\$DOCKER_CONFIG/cli-plugins/docker-compose\n",
        "<br><br>Puis vérifiez votre installation avec:\n",
        "<br>`docker compose version`"
      ],
      "metadata": {
        "id": "6l4gHoSR3Bo2"
      }
    },
    {
      "cell_type": "markdown",
      "source": [
        "Ensuite vous allez devoir construire eScriptorium. Pour ça vous devez d'abord cloner le dépôt de code avec cette commande (qui implique que vous ayez installé `git` sur votre ordinateur.\n",
        "<br>`git clone https://gitlab.com/scripta/escriptorium.git`"
      ],
      "metadata": {
        "id": "1lI53t8z4zlL"
      }
    },
    {
      "cell_type": "markdown",
      "source": [
        "Puis faites les commandes suivantes. Si tout va bien, vous n'aurez pas de message d'erreur.\n",
        "<br>`cd escriptorium && cp variables.env_example variables.env`\n",
        "<br>`docker-compose pull`\n",
        "<br>`docker-compose up -d`"
      ],
      "metadata": {
        "id": "iR6eqPiO5cSH"
      }
    },
    {
      "cell_type": "markdown",
      "source": [
        "Si tout va bien, vous devriez voir ce qui suit à cette [adresse](http://localhost:8080/)."
      ],
      "metadata": {
        "id": "K79hVpwq527i"
      }
    },
    {
      "cell_type": "markdown",
      "source": [
        "##**Pourquoi Kraken, et éventuellement eScriptorium**\n",
        "D'abord parce que c'est un logiciel totalement libre et très efficace sur les reconnaissances manuscrites (transkribus est vraiment fait pour l'imprimé).\n",
        "<br>Ensuite, parce que c'est un logiciel qui va proposer de plus en plus de modèles.\n",
        "<br>Enfin, il est parfaitement adaptable à vos besoins, bien plus flexible que transkribus."
      ],
      "metadata": {
        "id": "4NKp-CjG6Pf4"
      }
    },
    {
      "cell_type": "markdown",
      "source": [
        "Petite démo vidéo pour ce qui suit."
      ],
      "metadata": {
        "id": "0gt39BSH6Jgi"
      }
    },
    {
      "cell_type": "markdown",
      "source": [
        "###**Import des images**"
      ],
      "metadata": {
        "id": "1tJ_IbLA8EnT"
      }
    },
    {
      "cell_type": "code",
      "source": [
        "from IPython.display import IFrame\n",
        "IFrame(src=\"https://player.vimeo.com/video/429668341?h=8f0d24969d\", width=\"640\", height=\"344\")"
      ],
      "metadata": {
        "id": "khrOGG4vN_QP",
        "colab": {
          "base_uri": "https://localhost:8080/",
          "height": 365
        },
        "outputId": "59dde5f4-42fb-4a9b-ec7b-f89e5149f261"
      },
      "execution_count": 2,
      "outputs": [
        {
          "output_type": "execute_result",
          "data": {
            "text/plain": [
              "<IPython.lib.display.IFrame at 0x7f79b5445f90>"
            ],
            "text/html": [
              "\n",
              "        <iframe\n",
              "            width=\"640\"\n",
              "            height=\"344\"\n",
              "            src=\"https://player.vimeo.com/video/429668341?h=8f0d24969d\"\n",
              "            frameborder=\"0\"\n",
              "            allowfullscreen\n",
              "        ></iframe>\n",
              "        "
            ]
          },
          "metadata": {},
          "execution_count": 2
        }
      ]
    },
    {
      "cell_type": "markdown",
      "source": [
        "###**Segmentation**"
      ],
      "metadata": {
        "id": "dbkIWhqN8RG4"
      }
    },
    {
      "cell_type": "code",
      "source": [
        "IFrame(src=\"https://player.vimeo.com/video/429667697?h=f413d23dc6\", width=\"640\", height=\"491\")"
      ],
      "metadata": {
        "colab": {
          "base_uri": "https://localhost:8080/",
          "height": 512
        },
        "id": "8HvXHdbr7T4i",
        "outputId": "7362a820-48af-4ce4-e884-eab98cbf6636"
      },
      "execution_count": 3,
      "outputs": [
        {
          "output_type": "execute_result",
          "data": {
            "text/plain": [
              "<IPython.lib.display.IFrame at 0x7f79af187550>"
            ],
            "text/html": [
              "\n",
              "        <iframe\n",
              "            width=\"640\"\n",
              "            height=\"491\"\n",
              "            src=\"https://player.vimeo.com/video/429667697?h=f413d23dc6\"\n",
              "            frameborder=\"0\"\n",
              "            allowfullscreen\n",
              "        ></iframe>\n",
              "        "
            ]
          },
          "metadata": {},
          "execution_count": 3
        }
      ]
    },
    {
      "cell_type": "markdown",
      "source": [
        "###**Édition**"
      ],
      "metadata": {
        "id": "O5fzdLQ88vpB"
      }
    },
    {
      "cell_type": "code",
      "source": [
        "IFrame(src=\"https://player.vimeo.com/video/429667963?h=61ce9e218c\", width=\"640\", height=\"343\")"
      ],
      "metadata": {
        "colab": {
          "base_uri": "https://localhost:8080/",
          "height": 364
        },
        "id": "6Z_20_wC8l_v",
        "outputId": "e347b0d4-13a8-4913-ce6c-b28339560292"
      },
      "execution_count": 4,
      "outputs": [
        {
          "output_type": "execute_result",
          "data": {
            "text/plain": [
              "<IPython.lib.display.IFrame at 0x7f79b56602d0>"
            ],
            "text/html": [
              "\n",
              "        <iframe\n",
              "            width=\"640\"\n",
              "            height=\"343\"\n",
              "            src=\"https://player.vimeo.com/video/429667963?h=61ce9e218c\"\n",
              "            frameborder=\"0\"\n",
              "            allowfullscreen\n",
              "        ></iframe>\n",
              "        "
            ]
          },
          "metadata": {},
          "execution_count": 4
        }
      ]
    },
    {
      "cell_type": "markdown",
      "source": [
        "###**Transcription**"
      ],
      "metadata": {
        "id": "AX9N4BbU9AlY"
      }
    },
    {
      "cell_type": "code",
      "source": [
        "IFrame(src=\"https://player.vimeo.com/video/429667625?h=545ba23da2\", width=\"640\", height=\"342\")"
      ],
      "metadata": {
        "colab": {
          "base_uri": "https://localhost:8080/",
          "height": 363
        },
        "id": "KRzg72VT9RGL",
        "outputId": "f181ed96-2666-4724-a415-2761ced68ec7"
      },
      "execution_count": 5,
      "outputs": [
        {
          "output_type": "execute_result",
          "data": {
            "text/plain": [
              "<IPython.lib.display.IFrame at 0x7f79b543de90>"
            ],
            "text/html": [
              "\n",
              "        <iframe\n",
              "            width=\"640\"\n",
              "            height=\"342\"\n",
              "            src=\"https://player.vimeo.com/video/429667625?h=545ba23da2\"\n",
              "            frameborder=\"0\"\n",
              "            allowfullscreen\n",
              "        ></iframe>\n",
              "        "
            ]
          },
          "metadata": {},
          "execution_count": 5
        }
      ]
    },
    {
      "cell_type": "markdown",
      "source": [
        "###**Import et modification de modèle**"
      ],
      "metadata": {
        "id": "UyKOX0Ay9NQU"
      }
    },
    {
      "cell_type": "code",
      "source": [
        "IFrame(src=\"https://player.vimeo.com/video/429667909?h=0648763b5c\", width=\"640\", height=\"344\")"
      ],
      "metadata": {
        "colab": {
          "base_uri": "https://localhost:8080/",
          "height": 365
        },
        "id": "RhigCCyw891t",
        "outputId": "a99a010f-4d08-4140-9511-4bd0d739b58e"
      },
      "execution_count": 6,
      "outputs": [
        {
          "output_type": "execute_result",
          "data": {
            "text/plain": [
              "<IPython.lib.display.IFrame at 0x7f79af156cd0>"
            ],
            "text/html": [
              "\n",
              "        <iframe\n",
              "            width=\"640\"\n",
              "            height=\"344\"\n",
              "            src=\"https://player.vimeo.com/video/429667909?h=0648763b5c\"\n",
              "            frameborder=\"0\"\n",
              "            allowfullscreen\n",
              "        ></iframe>\n",
              "        "
            ]
          },
          "metadata": {},
          "execution_count": 6
        }
      ]
    },
    {
      "cell_type": "markdown",
      "source": [
        "Vous trouverez ici la [liste](https://zenodo.org/communities/ocr_models/search?page=1&size=20) des modèles disponibles."
      ],
      "metadata": {
        "id": "jaaEyST0CCdd"
      }
    },
    {
      "cell_type": "markdown",
      "source": [
        "#**Pour les autres outils utiles**"
      ],
      "metadata": {
        "id": "UyMw2zbV9uad"
      }
    },
    {
      "cell_type": "markdown",
      "source": [
        "Le problème, c'est qu'il en existe ÉNORMÉMENT, mais que les gens ne sont pas au courant. Alors il faut commencer par aller voir ce [site](https://wiki.digitalclassicist.org/Category:Projects) (qui n'est pas à jour), mais où beaucoup de projets sont recensés pour les Lettres Classiques. La page, date, mais la majorité des projets sont d'actualité."
      ],
      "metadata": {
        "id": "FfEvup8491t7"
      }
    },
    {
      "cell_type": "markdown",
      "source": [
        "Ce que moi je peux vous montrer, c'est ce qui intéresse généralement un peu mes étudiants en Antiquités Numériques."
      ],
      "metadata": {
        "id": "cgCK2Q35-4VV"
      }
    },
    {
      "cell_type": "markdown",
      "source": [
        "##**D'abord Alpheios.**"
      ],
      "metadata": {
        "id": "wHxzd9Fz--t1"
      }
    },
    {
      "cell_type": "code",
      "source": [
        "IFrame(width=\"560\", height=\"315\", src=\"https://www.youtube.com/embed/TZa86G1uVOU\")"
      ],
      "metadata": {
        "colab": {
          "base_uri": "https://localhost:8080/",
          "height": 336
        },
        "id": "jyp_PXgV9naw",
        "outputId": "738eec3c-333d-49ca-e806-f403ff866cd2"
      },
      "execution_count": 7,
      "outputs": [
        {
          "output_type": "execute_result",
          "data": {
            "text/plain": [
              "<IPython.lib.display.IFrame at 0x7f79af17cad0>"
            ],
            "text/html": [
              "\n",
              "        <iframe\n",
              "            width=\"560\"\n",
              "            height=\"315\"\n",
              "            src=\"https://www.youtube.com/embed/TZa86G1uVOU\"\n",
              "            frameborder=\"0\"\n",
              "            allowfullscreen\n",
              "        ></iframe>\n",
              "        "
            ]
          },
          "metadata": {},
          "execution_count": 7
        }
      ]
    },
    {
      "cell_type": "markdown",
      "source": [
        "##**Ensuite Deucalion et Pyrrha**"
      ],
      "metadata": {
        "id": "vwoddHpd_lZF"
      }
    },
    {
      "cell_type": "code",
      "source": [
        "IFrame(width=\"560\", height=\"315\",src=\"https://www.youtube.com/embed/tsN6qXiOu48\")"
      ],
      "metadata": {
        "colab": {
          "base_uri": "https://localhost:8080/",
          "height": 336
        },
        "id": "rvsLxjOw_XR4",
        "outputId": "af422460-9a54-461b-d493-a8165ac4ec71"
      },
      "execution_count": 17,
      "outputs": [
        {
          "output_type": "execute_result",
          "data": {
            "text/plain": [
              "<IPython.lib.display.IFrame at 0x7f79af0afe90>"
            ],
            "text/html": [
              "\n",
              "        <iframe\n",
              "            width=\"560\"\n",
              "            height=\"315\"\n",
              "            src=\"https://www.youtube.com/embed/tsN6qXiOu48\"\n",
              "            frameborder=\"0\"\n",
              "            allowfullscreen\n",
              "        ></iframe>\n",
              "        "
            ]
          },
          "metadata": {},
          "execution_count": 17
        }
      ]
    },
    {
      "cell_type": "markdown",
      "source": [
        "Pyrrha c'est un peu la même chose (Pyrrha a pour moteur d'analyse Deucalion). Pour faire tourner Pyrrha, il vous faut un login à demander [ici](https://dh.chartes.psl.eu/pyrrha/account/register)."
      ],
      "metadata": {
        "id": "85o20FWjCRpn"
      }
    },
    {
      "cell_type": "markdown",
      "source": [
        "![](https://drive.google.com/uc?export=view&id=1jcsbrpYJfV0y1eRS12CDXp8X9S2wvP4C)"
      ],
      "metadata": {
        "id": "8p5mzT5uE6DA"
      }
    },
    {
      "cell_type": "markdown",
      "source": [
        "![](https://drive.google.com/uc?export=view&id=1DTYb_FXytv47ROiPu1hotPjCNpwFcWNH)"
      ],
      "metadata": {
        "id": "bgdgZs2YFVVV"
      }
    },
    {
      "cell_type": "markdown",
      "source": [
        "![](https://drive.google.com/uc?export=view&id=1yz9hQesHHSkqivp7vEYSpyWGyOJUuet6)"
      ],
      "metadata": {
        "id": "rOY2kLeVFgkk"
      }
    },
    {
      "cell_type": "markdown",
      "source": [
        "![](https://drive.google.com/uc?export=view&id=1Ql0k79MQhhNmkDCmmjMv4Q5LoA0uWhTQ)"
      ],
      "metadata": {
        "id": "3cAfoj3yFro4"
      }
    },
    {
      "cell_type": "markdown",
      "source": [
        "![](https://drive.google.com/uc?export=view&id=1dwHirOc7uWy7RvjexNx9DuXtmdAcVQJP)"
      ],
      "metadata": {
        "id": "K0oJsvECF0Sv"
      }
    },
    {
      "cell_type": "markdown",
      "source": [
        "##**Un projet tout récent de Stanford: orbis**"
      ],
      "metadata": {
        "id": "W2J0zJdSGRZS"
      }
    },
    {
      "cell_type": "code",
      "source": [
        "IFrame(width=\"560\", height=\"315\", src=\"https://www.youtube.com/embed/qaLiNh948ec\")"
      ],
      "metadata": {
        "colab": {
          "base_uri": "https://localhost:8080/",
          "height": 336
        },
        "id": "5VG0DzvFE3JJ",
        "outputId": "62a16727-7ad0-4402-8155-72457c5335ab"
      },
      "execution_count": 16,
      "outputs": [
        {
          "output_type": "execute_result",
          "data": {
            "text/plain": [
              "<IPython.lib.display.IFrame at 0x7f79b2bc8750>"
            ],
            "text/html": [
              "\n",
              "        <iframe\n",
              "            width=\"560\"\n",
              "            height=\"315\"\n",
              "            src=\"https://www.youtube.com/embed/qaLiNh948ec\"\n",
              "            frameborder=\"0\"\n",
              "            allowfullscreen\n",
              "        ></iframe>\n",
              "        "
            ]
          },
          "metadata": {},
          "execution_count": 16
        }
      ]
    },
    {
      "cell_type": "markdown",
      "source": [
        "Encore une fois il existe ÉNORMÉMENT de projets. À vous de me dire ce qui vous intéresserait, je pourrais peut-être aider."
      ],
      "metadata": {
        "id": "dGKvY9n-HuU-"
      }
    },
    {
      "cell_type": "markdown",
      "source": [
        "Mais maintenant je veux vous proposer un petit outil simple d'analyse, redoutablement efficace, entraîné par nos collègues de Stanford."
      ],
      "metadata": {
        "id": "HxA5FCd4H5J8"
      }
    },
    {
      "cell_type": "markdown",
      "source": [
        "\n",
        "Ce script permet d'analyser des fichiers en grec qui sont soit des **CSV** soit des fichiers **TXT**. Les fichiers **DOIVENT être encodés en UTF8**."
      ],
      "metadata": {
        "id": "piO2G5thIUhi"
      }
    },
    {
      "cell_type": "code",
      "source": [
        "!pip install stanza"
      ],
      "metadata": {
        "colab": {
          "base_uri": "https://localhost:8080/"
        },
        "id": "g8RaylUvH4I2",
        "outputId": "c684affb-2433-41ec-d6f9-a48e096937f9"
      },
      "execution_count": 18,
      "outputs": [
        {
          "output_type": "stream",
          "name": "stdout",
          "text": [
            "Looking in indexes: https://pypi.org/simple, https://us-python.pkg.dev/colab-wheels/public/simple/\n",
            "Collecting stanza\n",
            "  Downloading stanza-1.4.0-py3-none-any.whl (574 kB)\n",
            "\u001b[K     |████████████████████████████████| 574 kB 5.1 MB/s \n",
            "\u001b[?25hRequirement already satisfied: numpy in /usr/local/lib/python3.7/dist-packages (from stanza) (1.21.6)\n",
            "Requirement already satisfied: torch>=1.3.0 in /usr/local/lib/python3.7/dist-packages (from stanza) (1.11.0+cu113)\n",
            "Collecting emoji\n",
            "  Downloading emoji-1.7.0.tar.gz (175 kB)\n",
            "\u001b[K     |████████████████████████████████| 175 kB 68.5 MB/s \n",
            "\u001b[?25hRequirement already satisfied: six in /usr/local/lib/python3.7/dist-packages (from stanza) (1.15.0)\n",
            "Collecting transformers\n",
            "  Downloading transformers-4.20.1-py3-none-any.whl (4.4 MB)\n",
            "\u001b[K     |████████████████████████████████| 4.4 MB 55.9 MB/s \n",
            "\u001b[?25hRequirement already satisfied: protobuf in /usr/local/lib/python3.7/dist-packages (from stanza) (3.17.3)\n",
            "Requirement already satisfied: requests in /usr/local/lib/python3.7/dist-packages (from stanza) (2.23.0)\n",
            "Requirement already satisfied: tqdm in /usr/local/lib/python3.7/dist-packages (from stanza) (4.64.0)\n",
            "Requirement already satisfied: typing-extensions in /usr/local/lib/python3.7/dist-packages (from torch>=1.3.0->stanza) (4.1.1)\n",
            "Requirement already satisfied: chardet<4,>=3.0.2 in /usr/local/lib/python3.7/dist-packages (from requests->stanza) (3.0.4)\n",
            "Requirement already satisfied: certifi>=2017.4.17 in /usr/local/lib/python3.7/dist-packages (from requests->stanza) (2022.6.15)\n",
            "Requirement already satisfied: idna<3,>=2.5 in /usr/local/lib/python3.7/dist-packages (from requests->stanza) (2.10)\n",
            "Requirement already satisfied: urllib3!=1.25.0,!=1.25.1,<1.26,>=1.21.1 in /usr/local/lib/python3.7/dist-packages (from requests->stanza) (1.24.3)\n",
            "Requirement already satisfied: packaging>=20.0 in /usr/local/lib/python3.7/dist-packages (from transformers->stanza) (21.3)\n",
            "Requirement already satisfied: filelock in /usr/local/lib/python3.7/dist-packages (from transformers->stanza) (3.7.1)\n",
            "Requirement already satisfied: importlib-metadata in /usr/local/lib/python3.7/dist-packages (from transformers->stanza) (4.11.4)\n",
            "Collecting pyyaml>=5.1\n",
            "  Downloading PyYAML-6.0-cp37-cp37m-manylinux_2_5_x86_64.manylinux1_x86_64.manylinux_2_12_x86_64.manylinux2010_x86_64.whl (596 kB)\n",
            "\u001b[K     |████████████████████████████████| 596 kB 53.5 MB/s \n",
            "\u001b[?25hRequirement already satisfied: regex!=2019.12.17 in /usr/local/lib/python3.7/dist-packages (from transformers->stanza) (2022.6.2)\n",
            "Collecting huggingface-hub<1.0,>=0.1.0\n",
            "  Downloading huggingface_hub-0.8.1-py3-none-any.whl (101 kB)\n",
            "\u001b[K     |████████████████████████████████| 101 kB 10.3 MB/s \n",
            "\u001b[?25hCollecting tokenizers!=0.11.3,<0.13,>=0.11.1\n",
            "  Downloading tokenizers-0.12.1-cp37-cp37m-manylinux_2_12_x86_64.manylinux2010_x86_64.whl (6.6 MB)\n",
            "\u001b[K     |████████████████████████████████| 6.6 MB 41.6 MB/s \n",
            "\u001b[?25hRequirement already satisfied: pyparsing!=3.0.5,>=2.0.2 in /usr/local/lib/python3.7/dist-packages (from packaging>=20.0->transformers->stanza) (3.0.9)\n",
            "Requirement already satisfied: zipp>=0.5 in /usr/local/lib/python3.7/dist-packages (from importlib-metadata->transformers->stanza) (3.8.0)\n",
            "Building wheels for collected packages: emoji\n",
            "  Building wheel for emoji (setup.py) ... \u001b[?25l\u001b[?25hdone\n",
            "  Created wheel for emoji: filename=emoji-1.7.0-py3-none-any.whl size=171046 sha256=7e154ecce3fec3e9929388fc4be7209479f020298680041880a0ac85e278676c\n",
            "  Stored in directory: /root/.cache/pip/wheels/8a/4e/b6/57b01db010d17ef6ea9b40300af725ef3e210cb1acfb7ac8b6\n",
            "Successfully built emoji\n",
            "Installing collected packages: pyyaml, tokenizers, huggingface-hub, transformers, emoji, stanza\n",
            "  Attempting uninstall: pyyaml\n",
            "    Found existing installation: PyYAML 3.13\n",
            "    Uninstalling PyYAML-3.13:\n",
            "      Successfully uninstalled PyYAML-3.13\n",
            "Successfully installed emoji-1.7.0 huggingface-hub-0.8.1 pyyaml-6.0 stanza-1.4.0 tokenizers-0.12.1 transformers-4.20.1\n"
          ]
        }
      ]
    },
    {
      "cell_type": "code",
      "source": [
        "import sys\n",
        "sys.path.insert(0,'/content')"
      ],
      "metadata": {
        "id": "-8Qb6nnVHiM5"
      },
      "execution_count": 19,
      "outputs": []
    },
    {
      "cell_type": "markdown",
      "source": [
        "C'est dans la cellule qui suit qu'on va déterminer le fichier à analyser. Ce fichier doit se trouver sur un google drive et être disponible pour tout utilisateur possédant le lien de partage.\n",
        "<br><br>Quand on a le lien, il faut identifier l'identifiant du fichier, ou \"id\". Cet \"id\" c'est généralement ce qui exclut à la fois `drive.google.com/file/d/` et `/view?usp=sharing`. Exemple, pour un fichier `https://drive.google.com/file/d/1GgB1A1pT1IUL8uaoReF91OZvhLdcdz9p/view?usp=sharing`, l'\"id\" est `1GgB1A1pT1IUL8uaoReF91OZvhLdcdz9p`.\n",
        "<br><br>Dans la cellule qui suit, vous devrez donc prendre votre \"id\", et le coller exactement à la ligne `id=\"1P1eZnW75XBhdYk9EoVjV-kCRU4-1_8aH\"` à la place de l'identifiant déjà présent, sans enlever `id=` ou les guillemets (l'identifiant doit être entre guillemets).\n",
        "<br><br>Il faut aussi, en fonction du fichier que vous souhaitez analyser, préciser l'extension (CSV ou TXT). Il faut donc changer la variable `extension` dans la cellule qui suit, en conservant bien les guillemets. Exemple : `extension=\"txt\"`"
      ],
      "metadata": {
        "id": "uR9fU6WXIi0s"
      }
    },
    {
      "cell_type": "code",
      "source": [
        "#Exécuter cette cellule\n",
        "\n",
        "import gdown\n",
        "import os\n",
        "\n",
        "if os.path.exists('./data/')==False:\n",
        "  os.mkdir('./data/')\n",
        "prefix=\"https://drive.google.com/uc?id=\"\n",
        "id=\"1P1eZnW75XBhdYk9EoVjV-kCRU4-1_8aH\"\n",
        "url=prefix+id\n",
        "extension=\"txt\"\n",
        "output='./data/text_to_analyze.'+extension\n",
        "gdown.download(url, output, quiet=False)"
      ],
      "metadata": {
        "colab": {
          "base_uri": "https://localhost:8080/",
          "height": 104
        },
        "id": "z8kgDONwIfV-",
        "outputId": "a2f00278-eb10-4aa4-b59f-f03df5e87b75"
      },
      "execution_count": 20,
      "outputs": [
        {
          "output_type": "stream",
          "name": "stderr",
          "text": [
            "Downloading...\n",
            "From: https://drive.google.com/uc?id=1P1eZnW75XBhdYk9EoVjV-kCRU4-1_8aH\n",
            "To: /content/data/text_to_analyze.txt\n",
            "100%|██████████| 6.06M/6.06M [00:00<00:00, 44.1MB/s]\n"
          ]
        },
        {
          "output_type": "execute_result",
          "data": {
            "text/plain": [
              "'./data/text_to_analyze.txt'"
            ],
            "application/vnd.google.colaboratory.intrinsic+json": {
              "type": "string"
            }
          },
          "metadata": {},
          "execution_count": 20
        }
      ]
    },
    {
      "cell_type": "code",
      "source": [
        "import glob\n",
        "import stanza\n",
        "from pathlib import Path\n",
        "import csv\n",
        "import pandas as pd"
      ],
      "metadata": {
        "id": "tfAdG7jbImwB"
      },
      "execution_count": 21,
      "outputs": []
    },
    {
      "cell_type": "code",
      "source": [
        "nlp_grc = stanza.Pipeline('grc', processors='tokenize,lemma,pos,depparse')"
      ],
      "metadata": {
        "colab": {
          "base_uri": "https://localhost:8080/",
          "height": 487,
          "referenced_widgets": [
            "ebc29c8ef1c848c5afd738bb27d3c3ee",
            "7d96e9a2e6634a7ab2c785e9cb4ebb55",
            "91df9b187d9e48e49bd46ff13098dc95",
            "f0fea651cc2845fc80f533cd74b7d5c6",
            "ef6b412ac38b4cb794996a09587217b2",
            "24d1ba30fc604b68a6b3c2531d7d5157",
            "18d140cb03fc4b90b285cde3ae3c37f9",
            "d7942853c9514ea2b3e852824f943334",
            "1290b14c86bc43bd975c4573ebe0f398",
            "f5fb1dffaab14a76acf0c98c9aa2b8c3",
            "cfd7ea45ed2647829c74622c40ac8d8c",
            "fd32e57cd7984d7195aae8f099d2fa0f",
            "d4370628f1914c2cb035aaf5f6e5e689",
            "8a01d2e7dcc54a07924154b287fd08ee",
            "522986a1a22848608e4732ffe5b8b0d5",
            "55582bffb0fe46b2ba054a0928f2cff1",
            "ecdf9b87cbb34f0e95b3ddcffa67fcdc",
            "4d3b314ce6054408ab2c748a80409a44",
            "a9c80452764a4acea77778c60a277bbd",
            "390037951ac246a194367fce63c9dfaa",
            "5110ddf9e71e491ba3f7c9e9e3b99d93",
            "810561697a964ff08d36735a6ebe7912",
            "3642563ac8324f969aafb73885accb0c",
            "a3fec9199289495dbee480c20a8bfe2e",
            "ee6e81194c8942a599b394b4ecac7531",
            "39d9b86d11504d48b48ebfabf36d011a",
            "678f715509b3458f8bd2a0abb10b2682",
            "e8537ca334394aaa8ceb1353ba44990f",
            "abced62dc1954932a50400579c62fa7a",
            "54885b5fa7504e3a80520e62c6c72fbf",
            "54c47e2880474b809a991d1f43380816",
            "ac25246e0bf4465ebc8b7050ff148474",
            "e61a68390aa54101a28e81d2c1a88ba8",
            "b4b0612b2dce453c9335b84679a8e535",
            "e959df042fd1402ba6d21fb8988a0078",
            "c40dabd1cad04a26a5fb8effdc4c5222",
            "ca6d2fdbd27447a085e6c93de62b68da",
            "181d1688e89647d09c6841cd9bc54fc1",
            "d3cfd9c8cb674a8ca29994147981cda0",
            "49cffa48befe4708af93e0ebeac5ddf0",
            "2a19c27d870e4ccfa313bcbcdbf66615",
            "2a5e8e7b037e4311a9c54f3e4405c9ce",
            "76fb2c509a504577b1bb6343c8537fa9",
            "80b2a0caef014f5f99038a20a0437368",
            "7b5595cfb88947c39d4e4c4216b1bd03",
            "b32fc6bad59c43ecb2114b2040c1f2a6",
            "9e8860fe5bc4421db7ea61ee53cd1a08",
            "b92a9f7c8f7f4147956f6393930c685d",
            "6d8f266e75c7443eb826fc5b74c403ac",
            "abc6c2b9f51f433fb1bf5fd6fc16161c",
            "86c1c717185248f78422f926ea5fc0e8",
            "8d45ca89a280465f8c9e946fb5ee3577",
            "157922a342134769895de0f77d48a403",
            "0ded58ad31204085ac1a7e21cc0fe9ed",
            "fe010000dbaf45d193e7bdffb8721e24",
            "4a50e97705ca44c3a42708271deb1d2f",
            "c6954aa3b80c4b5caa2060b53b6f3b87",
            "59c6a2b7f76e49b7881dbc561e65687b",
            "4d6dd79268a946fc8b1661096f2268d2",
            "6c8c8d6ccc504b528b0c83c0c3e8c411",
            "9f9dbbc56d0d4f709dc799861ae888c0",
            "1bfec52f17da439ba341aa4bfb0d846e",
            "6e87bc5e8e42462aab53b5dd6f399855",
            "d77e48fe23464145a2fdd58b4dbb1e36",
            "e1eeeb209bbe491abc32a439bd147111",
            "4eaaf10cbb48467eae1397824c713114"
          ]
        },
        "id": "gO7U587mIqG-",
        "outputId": "62b5f34e-b165-4a04-c804-c9ff9dcf127d"
      },
      "execution_count": 22,
      "outputs": [
        {
          "output_type": "display_data",
          "data": {
            "text/plain": [
              "Downloading https://raw.githubusercontent.com/stanfordnlp/stanza-resources/main/resources_1.4.0.json:   0%|   …"
            ],
            "application/vnd.jupyter.widget-view+json": {
              "version_major": 2,
              "version_minor": 0,
              "model_id": "ebc29c8ef1c848c5afd738bb27d3c3ee"
            }
          },
          "metadata": {}
        },
        {
          "output_type": "display_data",
          "data": {
            "text/plain": [
              "Downloading https://huggingface.co/stanfordnlp/stanza-grc/resolve/v1.4.0/models/tokenize/proiel.pt:   0%|     …"
            ],
            "application/vnd.jupyter.widget-view+json": {
              "version_major": 2,
              "version_minor": 0,
              "model_id": "fd32e57cd7984d7195aae8f099d2fa0f"
            }
          },
          "metadata": {}
        },
        {
          "output_type": "display_data",
          "data": {
            "text/plain": [
              "Downloading https://huggingface.co/stanfordnlp/stanza-grc/resolve/v1.4.0/models/pos/proiel.pt:   0%|          …"
            ],
            "application/vnd.jupyter.widget-view+json": {
              "version_major": 2,
              "version_minor": 0,
              "model_id": "3642563ac8324f969aafb73885accb0c"
            }
          },
          "metadata": {}
        },
        {
          "output_type": "display_data",
          "data": {
            "text/plain": [
              "Downloading https://huggingface.co/stanfordnlp/stanza-grc/resolve/v1.4.0/models/lemma/proiel.pt:   0%|        …"
            ],
            "application/vnd.jupyter.widget-view+json": {
              "version_major": 2,
              "version_minor": 0,
              "model_id": "b4b0612b2dce453c9335b84679a8e535"
            }
          },
          "metadata": {}
        },
        {
          "output_type": "display_data",
          "data": {
            "text/plain": [
              "Downloading https://huggingface.co/stanfordnlp/stanza-grc/resolve/v1.4.0/models/depparse/proiel.pt:   0%|     …"
            ],
            "application/vnd.jupyter.widget-view+json": {
              "version_major": 2,
              "version_minor": 0,
              "model_id": "7b5595cfb88947c39d4e4c4216b1bd03"
            }
          },
          "metadata": {}
        },
        {
          "output_type": "display_data",
          "data": {
            "text/plain": [
              "Downloading https://huggingface.co/stanfordnlp/stanza-grc/resolve/v1.4.0/models/pretrain/proiel.pt:   0%|     …"
            ],
            "application/vnd.jupyter.widget-view+json": {
              "version_major": 2,
              "version_minor": 0,
              "model_id": "4a50e97705ca44c3a42708271deb1d2f"
            }
          },
          "metadata": {}
        },
        {
          "output_type": "stream",
          "name": "stderr",
          "text": [
            "2022-06-28 11:47:08 INFO: Loading these models for language: grc (Ancient_Greek):\n",
            "=======================\n",
            "| Processor | Package |\n",
            "-----------------------\n",
            "| tokenize  | proiel  |\n",
            "| pos       | proiel  |\n",
            "| lemma     | proiel  |\n",
            "| depparse  | proiel  |\n",
            "=======================\n",
            "\n",
            "2022-06-28 11:47:08 INFO: Use device: cpu\n",
            "2022-06-28 11:47:08 INFO: Loading: tokenize\n",
            "2022-06-28 11:47:08 INFO: Loading: pos\n",
            "2022-06-28 11:47:08 INFO: Loading: lemma\n",
            "2022-06-28 11:47:08 INFO: Loading: depparse\n",
            "2022-06-28 11:47:08 INFO: Done loading processors!\n"
          ]
        }
      ]
    },
    {
      "cell_type": "markdown",
      "source": [
        "#**Partie à exécuter seulement si on a un CSV de base**"
      ],
      "metadata": {
        "id": "S3sCrhF7I1Bw"
      }
    },
    {
      "cell_type": "markdown",
      "source": [
        "Pour que cela fonctionne, vous devez avoir un **CSV** en **UTF8**, séparé par des **tabulations**.\n",
        "<br>Le résultat des analyses sera dans un dossier `results` visible sur le côté du google colab.\n",
        "<br><br>La variable `column_name` doit avoir la valeur du nom de votre colonne CSV qui contient les formes grecques. Ne pas oublier de bien conserver les guillemets. Changer comme suit, exemple : `column_name=\"text_form\"` si la colonne a pour titre text_form."
      ],
      "metadata": {
        "id": "v6STeOu-I43G"
      }
    },
    {
      "cell_type": "code",
      "source": [
        "column_name=\"word\""
      ],
      "metadata": {
        "id": "3oWf2uYQIuSP"
      },
      "execution_count": null,
      "outputs": []
    },
    {
      "cell_type": "code",
      "source": [
        "files= glob.iglob('/content/data/**/*.csv', recursive=True)\n",
        "headers=['Word','Lemma','POS','Features']\n",
        "for filename in files :\n",
        "    path=Path(filename).stem\n",
        "    if os.path.exists('./results/')==False:\n",
        "        os.mkdir('./results/')\n",
        "    with open('./results/'+path+'.csv', 'w', newline='') as outcsv:\n",
        "        number_occurrences=0\n",
        "        writer = csv.writer(outcsv)\n",
        "        writer.writerow(headers)\n",
        "        print(filename)\n",
        "        df = pd.read_csv(filename, sep='\\t')\n",
        "        words = df[column_name].tolist()\n",
        "        print(\"Il y a \"+str(len(words))+\" formes à analyser.\")\n",
        "        gktxt = \" \".join(words)\n",
        "        grc_analyzed = nlp_grc(gktxt)\n",
        "        for sent in grc_analyzed.sentences:\n",
        "          for word in sent.words:\n",
        "            row=list()\n",
        "            row.append(word.text)\n",
        "            row.append(word.lemma)\n",
        "            row.append(word.upos)\n",
        "            row.append(word.feats)\n",
        "            writer.writerow(row)"
      ],
      "metadata": {
        "id": "V9VCgb16I_0Z"
      },
      "execution_count": null,
      "outputs": []
    },
    {
      "cell_type": "markdown",
      "source": [
        "#**Partie à exécuter seulement si le fichier de base est un TXT**"
      ],
      "metadata": {
        "id": "tJpg8QyFJDtW"
      }
    },
    {
      "cell_type": "markdown",
      "source": [
        "Pour que cela fonctionne, vous devez avoir un **TXT** en **UTF8**.\n",
        "<br>Le résultat des analyses sera dans un dossier `results` visible sur le côté du google colab."
      ],
      "metadata": {
        "id": "XzlebYm7JHa-"
      }
    },
    {
      "cell_type": "code",
      "source": [
        "files= glob.iglob('/content/data/**/*.txt', recursive=True)\n",
        "headers=['Word','Lemma','POS','Features']\n",
        "for filename in files :\n",
        "    path=Path(filename).stem\n",
        "    if os.path.exists('./results/')==False:\n",
        "        os.mkdir('./results/')\n",
        "    with open('./results/'+path+'.csv', 'w', newline='') as outcsv:\n",
        "        writer = csv.writer(outcsv)\n",
        "        writer.writerow(headers)\n",
        "        print(filename)\n",
        "        gktxt=open(filename, encoding=\"utf8\").read()\n",
        "        grc_analyzed = nlp_grc(gktxt)\n",
        "        for sent in grc_analyzed.sentences:\n",
        "          for word in sent.words:\n",
        "            row=list()\n",
        "            row.append(word.text)\n",
        "            row.append(word.lemma)\n",
        "            row.append(word.upos)\n",
        "            row.append(word.feats)\n",
        "            writer.writerow(row)"
      ],
      "metadata": {
        "id": "4LQEGswiJEPM"
      },
      "execution_count": null,
      "outputs": []
    },
    {
      "cell_type": "markdown",
      "source": [
        "Pour d'autres exemples un peu poussés de ce que vous pouvez imaginer faire, je vous conseille rapidement ce [dépôt github](https://github.com/ABC-DH/EnExDi2022/tree/main/materials/3_NLP) avec les colabs que j'ai mis dedans."
      ],
      "metadata": {
        "id": "E4KqY4vzJkto"
      }
    },
    {
      "cell_type": "code",
      "source": [
        ""
      ],
      "metadata": {
        "id": "Svf9WLolKDrS"
      },
      "execution_count": null,
      "outputs": []
    }
  ]
}